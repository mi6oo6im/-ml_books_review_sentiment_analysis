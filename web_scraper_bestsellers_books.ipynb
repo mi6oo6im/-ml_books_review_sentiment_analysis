{
 "cells": [
  {
   "cell_type": "code",
   "execution_count": 1,
   "metadata": {},
   "outputs": [],
   "source": [
    "%matplotlib inline"
   ]
  },
  {
   "cell_type": "code",
   "execution_count": 2,
   "metadata": {},
   "outputs": [],
   "source": [
    "# my imports\n",
    "import requests\n",
    "from bs4 import BeautifulSoup\n",
    "import pandas as pd\n",
    "import numpy as np\n",
    "import matplotlib.pyplot as plt\n"
   ]
  },
  {
   "cell_type": "markdown",
   "metadata": {},
   "source": [
    "## Scraping data for bestseller books from Wikipedia"
   ]
  },
  {
   "cell_type": "markdown",
   "metadata": {},
   "source": [
    "Add base URL - the page URL. For this project I'm using the 'List of best-selling books' from Wikipedia"
   ]
  },
  {
   "cell_type": "code",
   "execution_count": 3,
   "metadata": {},
   "outputs": [],
   "source": [
    "base_url = 'https://en.wikipedia.org/wiki/List_of_best-selling_books'"
   ]
  },
  {
   "cell_type": "markdown",
   "metadata": {},
   "source": [
    "Pull HTML from site using GET request and create our BS object from it."
   ]
  },
  {
   "cell_type": "code",
   "execution_count": 4,
   "metadata": {},
   "outputs": [],
   "source": [
    "page = requests.get(base_url)\n",
    "\n",
    "soup = BeautifulSoup(page.text, 'html')"
   ]
  },
  {
   "cell_type": "code",
   "execution_count": 5,
   "metadata": {},
   "outputs": [],
   "source": [
    "tables = soup.find_all('table', class_ = 'wikitable')"
   ]
  },
  {
   "cell_type": "code",
   "execution_count": 6,
   "metadata": {},
   "outputs": [
    {
     "data": {
      "text/plain": [
       "14"
      ]
     },
     "execution_count": 6,
     "metadata": {},
     "output_type": "execute_result"
    }
   ],
   "source": [
    "len(tables)"
   ]
  },
  {
   "cell_type": "code",
   "execution_count": 7,
   "metadata": {},
   "outputs": [],
   "source": [
    "bestsellers_books = tables[:3]"
   ]
  },
  {
   "cell_type": "code",
   "execution_count": 8,
   "metadata": {},
   "outputs": [],
   "source": [
    "del tables"
   ]
  },
  {
   "cell_type": "code",
   "execution_count": 9,
   "metadata": {},
   "outputs": [],
   "source": [
    "headers = bestsellers_books[0].find_all('th')"
   ]
  },
  {
   "cell_type": "code",
   "execution_count": 10,
   "metadata": {},
   "outputs": [],
   "source": [
    "header_labels = [label.text.strip() for label in headers]"
   ]
  },
  {
   "cell_type": "code",
   "execution_count": 11,
   "metadata": {},
   "outputs": [
    {
     "data": {
      "text/plain": [
       "['Book',\n",
       " 'Author(s)',\n",
       " 'Original language',\n",
       " 'First published',\n",
       " 'Approximate sales',\n",
       " 'Genre']"
      ]
     },
     "execution_count": 11,
     "metadata": {},
     "output_type": "execute_result"
    }
   ],
   "source": [
    "header_labels"
   ]
  },
  {
   "cell_type": "code",
   "execution_count": 12,
   "metadata": {},
   "outputs": [],
   "source": [
    "books_df = pd.DataFrame(columns=header_labels)"
   ]
  },
  {
   "cell_type": "code",
   "execution_count": 13,
   "metadata": {},
   "outputs": [
    {
     "data": {
      "text/html": [
       "<div>\n",
       "<style scoped>\n",
       "    .dataframe tbody tr th:only-of-type {\n",
       "        vertical-align: middle;\n",
       "    }\n",
       "\n",
       "    .dataframe tbody tr th {\n",
       "        vertical-align: top;\n",
       "    }\n",
       "\n",
       "    .dataframe thead th {\n",
       "        text-align: right;\n",
       "    }\n",
       "</style>\n",
       "<table border=\"1\" class=\"dataframe\">\n",
       "  <thead>\n",
       "    <tr style=\"text-align: right;\">\n",
       "      <th></th>\n",
       "      <th>Book</th>\n",
       "      <th>Author(s)</th>\n",
       "      <th>Original language</th>\n",
       "      <th>First published</th>\n",
       "      <th>Approximate sales</th>\n",
       "      <th>Genre</th>\n",
       "    </tr>\n",
       "  </thead>\n",
       "  <tbody>\n",
       "  </tbody>\n",
       "</table>\n",
       "</div>"
      ],
      "text/plain": [
       "Empty DataFrame\n",
       "Columns: [Book, Author(s), Original language, First published, Approximate sales, Genre]\n",
       "Index: []"
      ]
     },
     "execution_count": 13,
     "metadata": {},
     "output_type": "execute_result"
    }
   ],
   "source": [
    "books_df"
   ]
  },
  {
   "cell_type": "code",
   "execution_count": 14,
   "metadata": {},
   "outputs": [],
   "source": [
    "table_rows = [] \n",
    "for book in bestsellers_books:\n",
    "    table_rows.extend(book.find_all('tr')[1:])"
   ]
  },
  {
   "cell_type": "code",
   "execution_count": 15,
   "metadata": {},
   "outputs": [],
   "source": [
    "for row in table_rows:\n",
    "    current_row = row.find_all('td')\n",
    "    row_data = [cell.text.strip() for cell in current_row]\n",
    "    \n",
    "    books_df.loc[len(books_df)] = row_data"
   ]
  },
  {
   "cell_type": "code",
   "execution_count": 16,
   "metadata": {},
   "outputs": [
    {
     "data": {
      "text/html": [
       "<div>\n",
       "<style scoped>\n",
       "    .dataframe tbody tr th:only-of-type {\n",
       "        vertical-align: middle;\n",
       "    }\n",
       "\n",
       "    .dataframe tbody tr th {\n",
       "        vertical-align: top;\n",
       "    }\n",
       "\n",
       "    .dataframe thead th {\n",
       "        text-align: right;\n",
       "    }\n",
       "</style>\n",
       "<table border=\"1\" class=\"dataframe\">\n",
       "  <thead>\n",
       "    <tr style=\"text-align: right;\">\n",
       "      <th></th>\n",
       "      <th>Book</th>\n",
       "      <th>Author(s)</th>\n",
       "      <th>Original language</th>\n",
       "      <th>First published</th>\n",
       "      <th>Approximate sales</th>\n",
       "      <th>Genre</th>\n",
       "    </tr>\n",
       "  </thead>\n",
       "  <tbody>\n",
       "    <tr>\n",
       "      <th>0</th>\n",
       "      <td>A Tale of Two Cities</td>\n",
       "      <td>Charles Dickens</td>\n",
       "      <td>English</td>\n",
       "      <td>1859</td>\n",
       "      <td>&gt;200 million[20]</td>\n",
       "      <td>Historical fiction</td>\n",
       "    </tr>\n",
       "    <tr>\n",
       "      <th>1</th>\n",
       "      <td>The Little Prince (Le Petit Prince)</td>\n",
       "      <td>Antoine de Saint-Exupéry</td>\n",
       "      <td>French</td>\n",
       "      <td>1943</td>\n",
       "      <td>200 million[21][22][23]</td>\n",
       "      <td>Fantasy, children's fiction</td>\n",
       "    </tr>\n",
       "    <tr>\n",
       "      <th>2</th>\n",
       "      <td>The Alchemist (O Alquimista)</td>\n",
       "      <td>Paulo Coelho</td>\n",
       "      <td>Portuguese</td>\n",
       "      <td>1988</td>\n",
       "      <td>150 million[24][25]</td>\n",
       "      <td>Fantasy</td>\n",
       "    </tr>\n",
       "    <tr>\n",
       "      <th>3</th>\n",
       "      <td>Harry Potter and the Philosopher's Stone</td>\n",
       "      <td>J. K. Rowling</td>\n",
       "      <td>English</td>\n",
       "      <td>1997</td>\n",
       "      <td>120 million[26][27]</td>\n",
       "      <td>Fantasy, children's fiction</td>\n",
       "    </tr>\n",
       "    <tr>\n",
       "      <th>4</th>\n",
       "      <td>And Then There Were None</td>\n",
       "      <td>Agatha Christie</td>\n",
       "      <td>English</td>\n",
       "      <td>1939</td>\n",
       "      <td>100 million[28]</td>\n",
       "      <td>Mystery</td>\n",
       "    </tr>\n",
       "    <tr>\n",
       "      <th>...</th>\n",
       "      <td>...</td>\n",
       "      <td>...</td>\n",
       "      <td>...</td>\n",
       "      <td>...</td>\n",
       "      <td>...</td>\n",
       "      <td>...</td>\n",
       "    </tr>\n",
       "    <tr>\n",
       "      <th>96</th>\n",
       "      <td>Fear of Flying</td>\n",
       "      <td>Erica Jong</td>\n",
       "      <td>English</td>\n",
       "      <td>1973</td>\n",
       "      <td>20 million[119]</td>\n",
       "      <td>Romantic novel</td>\n",
       "    </tr>\n",
       "    <tr>\n",
       "      <th>97</th>\n",
       "      <td>Dune</td>\n",
       "      <td>Frank Herbert</td>\n",
       "      <td>English</td>\n",
       "      <td>1965</td>\n",
       "      <td>20 million[120]</td>\n",
       "      <td>Science fiction novel</td>\n",
       "    </tr>\n",
       "    <tr>\n",
       "      <th>98</th>\n",
       "      <td>Charlie and the Chocolate Factory</td>\n",
       "      <td>Roald Dahl</td>\n",
       "      <td>English</td>\n",
       "      <td>1964</td>\n",
       "      <td>20 million[121]</td>\n",
       "      <td>Children's fantasy novel</td>\n",
       "    </tr>\n",
       "    <tr>\n",
       "      <th>99</th>\n",
       "      <td>The Naked Ape</td>\n",
       "      <td>Desmond Morris</td>\n",
       "      <td>English</td>\n",
       "      <td>1968</td>\n",
       "      <td>20 million[122]</td>\n",
       "      <td>Social Science, Anthropology, Psychology</td>\n",
       "    </tr>\n",
       "    <tr>\n",
       "      <th>100</th>\n",
       "      <td>Kokoro (こゝろ)</td>\n",
       "      <td>Natsume Sōseki</td>\n",
       "      <td>Japanese</td>\n",
       "      <td>1914</td>\n",
       "      <td>20 million (as of 1994)[123]</td>\n",
       "      <td>Novel</td>\n",
       "    </tr>\n",
       "  </tbody>\n",
       "</table>\n",
       "<p>101 rows × 6 columns</p>\n",
       "</div>"
      ],
      "text/plain": [
       "                                         Book                 Author(s)  \\\n",
       "0                        A Tale of Two Cities           Charles Dickens   \n",
       "1         The Little Prince (Le Petit Prince)  Antoine de Saint-Exupéry   \n",
       "2                The Alchemist (O Alquimista)              Paulo Coelho   \n",
       "3    Harry Potter and the Philosopher's Stone             J. K. Rowling   \n",
       "4                    And Then There Were None           Agatha Christie   \n",
       "..                                        ...                       ...   \n",
       "96                             Fear of Flying                Erica Jong   \n",
       "97                                       Dune             Frank Herbert   \n",
       "98          Charlie and the Chocolate Factory                Roald Dahl   \n",
       "99                              The Naked Ape            Desmond Morris   \n",
       "100                              Kokoro (こゝろ)            Natsume Sōseki   \n",
       "\n",
       "    Original language First published             Approximate sales  \\\n",
       "0             English            1859              >200 million[20]   \n",
       "1              French            1943       200 million[21][22][23]   \n",
       "2          Portuguese            1988           150 million[24][25]   \n",
       "3             English            1997           120 million[26][27]   \n",
       "4             English            1939               100 million[28]   \n",
       "..                ...             ...                           ...   \n",
       "96            English            1973               20 million[119]   \n",
       "97            English            1965               20 million[120]   \n",
       "98            English            1964               20 million[121]   \n",
       "99            English            1968               20 million[122]   \n",
       "100          Japanese            1914  20 million (as of 1994)[123]   \n",
       "\n",
       "                                        Genre  \n",
       "0                          Historical fiction  \n",
       "1                 Fantasy, children's fiction  \n",
       "2                                     Fantasy  \n",
       "3                 Fantasy, children's fiction  \n",
       "4                                     Mystery  \n",
       "..                                        ...  \n",
       "96                             Romantic novel  \n",
       "97                      Science fiction novel  \n",
       "98                   Children's fantasy novel  \n",
       "99   Social Science, Anthropology, Psychology  \n",
       "100                                     Novel  \n",
       "\n",
       "[101 rows x 6 columns]"
      ]
     },
     "execution_count": 16,
     "metadata": {},
     "output_type": "execute_result"
    }
   ],
   "source": [
    "books_df"
   ]
  },
  {
   "cell_type": "code",
   "execution_count": 17,
   "metadata": {},
   "outputs": [
    {
     "data": {
      "text/plain": [
       "(101, 6)"
      ]
     },
     "execution_count": 17,
     "metadata": {},
     "output_type": "execute_result"
    }
   ],
   "source": [
    "books_df[books_df['Approximate sales'].str.contains('million')].shape"
   ]
  },
  {
   "cell_type": "markdown",
   "metadata": {},
   "source": [
    "All values start with number followed by 'million'"
   ]
  },
  {
   "cell_type": "code",
   "execution_count": 18,
   "metadata": {},
   "outputs": [],
   "source": [
    "books_df['Approximate sales'] = books_df['Approximate sales'].str.extract(r'(>?[\\d]+\\s*million)', expand=False)"
   ]
  },
  {
   "cell_type": "code",
   "execution_count": 19,
   "metadata": {},
   "outputs": [
    {
     "data": {
      "text/html": [
       "<div>\n",
       "<style scoped>\n",
       "    .dataframe tbody tr th:only-of-type {\n",
       "        vertical-align: middle;\n",
       "    }\n",
       "\n",
       "    .dataframe tbody tr th {\n",
       "        vertical-align: top;\n",
       "    }\n",
       "\n",
       "    .dataframe thead th {\n",
       "        text-align: right;\n",
       "    }\n",
       "</style>\n",
       "<table border=\"1\" class=\"dataframe\">\n",
       "  <thead>\n",
       "    <tr style=\"text-align: right;\">\n",
       "      <th></th>\n",
       "      <th>Book</th>\n",
       "      <th>Author(s)</th>\n",
       "      <th>Original language</th>\n",
       "      <th>First published</th>\n",
       "      <th>Approximate sales</th>\n",
       "      <th>Genre</th>\n",
       "    </tr>\n",
       "  </thead>\n",
       "  <tbody>\n",
       "    <tr>\n",
       "      <th>0</th>\n",
       "      <td>A Tale of Two Cities</td>\n",
       "      <td>Charles Dickens</td>\n",
       "      <td>English</td>\n",
       "      <td>1859</td>\n",
       "      <td>&gt;200 million</td>\n",
       "      <td>Historical fiction</td>\n",
       "    </tr>\n",
       "    <tr>\n",
       "      <th>1</th>\n",
       "      <td>The Little Prince (Le Petit Prince)</td>\n",
       "      <td>Antoine de Saint-Exupéry</td>\n",
       "      <td>French</td>\n",
       "      <td>1943</td>\n",
       "      <td>200 million</td>\n",
       "      <td>Fantasy, children's fiction</td>\n",
       "    </tr>\n",
       "    <tr>\n",
       "      <th>2</th>\n",
       "      <td>The Alchemist (O Alquimista)</td>\n",
       "      <td>Paulo Coelho</td>\n",
       "      <td>Portuguese</td>\n",
       "      <td>1988</td>\n",
       "      <td>150 million</td>\n",
       "      <td>Fantasy</td>\n",
       "    </tr>\n",
       "    <tr>\n",
       "      <th>3</th>\n",
       "      <td>Harry Potter and the Philosopher's Stone</td>\n",
       "      <td>J. K. Rowling</td>\n",
       "      <td>English</td>\n",
       "      <td>1997</td>\n",
       "      <td>120 million</td>\n",
       "      <td>Fantasy, children's fiction</td>\n",
       "    </tr>\n",
       "    <tr>\n",
       "      <th>4</th>\n",
       "      <td>And Then There Were None</td>\n",
       "      <td>Agatha Christie</td>\n",
       "      <td>English</td>\n",
       "      <td>1939</td>\n",
       "      <td>100 million</td>\n",
       "      <td>Mystery</td>\n",
       "    </tr>\n",
       "  </tbody>\n",
       "</table>\n",
       "</div>"
      ],
      "text/plain": [
       "                                       Book                 Author(s)  \\\n",
       "0                      A Tale of Two Cities           Charles Dickens   \n",
       "1       The Little Prince (Le Petit Prince)  Antoine de Saint-Exupéry   \n",
       "2              The Alchemist (O Alquimista)              Paulo Coelho   \n",
       "3  Harry Potter and the Philosopher's Stone             J. K. Rowling   \n",
       "4                  And Then There Were None           Agatha Christie   \n",
       "\n",
       "  Original language First published Approximate sales  \\\n",
       "0           English            1859      >200 million   \n",
       "1            French            1943       200 million   \n",
       "2        Portuguese            1988       150 million   \n",
       "3           English            1997       120 million   \n",
       "4           English            1939       100 million   \n",
       "\n",
       "                         Genre  \n",
       "0           Historical fiction  \n",
       "1  Fantasy, children's fiction  \n",
       "2                      Fantasy  \n",
       "3  Fantasy, children's fiction  \n",
       "4                      Mystery  "
      ]
     },
     "execution_count": 19,
     "metadata": {},
     "output_type": "execute_result"
    }
   ],
   "source": [
    "books_df.head()"
   ]
  },
  {
   "cell_type": "code",
   "execution_count": 24,
   "metadata": {},
   "outputs": [],
   "source": [
    "books_df.columns = ['book_title', 'author', 'original_language', 'first_published_year',\n",
    "       'approximate_sales', 'genre']"
   ]
  },
  {
   "cell_type": "code",
   "execution_count": 28,
   "metadata": {},
   "outputs": [],
   "source": [
    "books_df = books_df[['first_published_year', 'book_title', 'author', 'original_language',\n",
    "       'genre', 'approximate_sales']]"
   ]
  },
  {
   "cell_type": "code",
   "execution_count": 29,
   "metadata": {},
   "outputs": [],
   "source": [
    "books_df.to_csv('data/cleaned_bestsellers_approximated_sales.csv',index=None)"
   ]
  }
 ],
 "metadata": {
  "kernelspec": {
   "display_name": "venv",
   "language": "python",
   "name": "python3"
  },
  "language_info": {
   "codemirror_mode": {
    "name": "ipython",
    "version": 3
   },
   "file_extension": ".py",
   "mimetype": "text/x-python",
   "name": "python",
   "nbconvert_exporter": "python",
   "pygments_lexer": "ipython3",
   "version": "3.11.7"
  }
 },
 "nbformat": 4,
 "nbformat_minor": 2
}
