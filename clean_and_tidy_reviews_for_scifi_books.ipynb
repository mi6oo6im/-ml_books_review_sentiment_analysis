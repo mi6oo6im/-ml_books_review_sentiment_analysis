{
 "cells": [
  {
   "cell_type": "code",
   "execution_count": 3,
   "metadata": {},
   "outputs": [],
   "source": [
    "%matplotlib inline"
   ]
  },
  {
   "cell_type": "code",
   "execution_count": 4,
   "metadata": {},
   "outputs": [],
   "source": [
    "# my imports\n",
    "import pandas as pd\n",
    "import numpy as np\n",
    "import matplotlib.pyplot as plt\n",
    "import hashlib\n",
    "import nltk\n",
    "from nltk.corpus import stopwords\n",
    "from nltk.tokenize import word_tokenize\n",
    "from nltk.stem import WordNetLemmatizer\n",
    "import string"
   ]
  },
  {
   "cell_type": "code",
   "execution_count": 5,
   "metadata": {},
   "outputs": [],
   "source": [
    "# Download necessary NLTK data files (only needed once)\n",
    "# nltk.download('punkt')\n",
    "# nltk.download('stopwords')\n",
    "# nltk.download('wordnet')"
   ]
  },
  {
   "cell_type": "code",
   "execution_count": 6,
   "metadata": {},
   "outputs": [],
   "source": [
    "reviews_pr_1 = pd.read_csv('data/reviews_for_scifi/scifi_0-20.csv')"
   ]
  },
  {
   "cell_type": "code",
   "execution_count": 7,
   "metadata": {},
   "outputs": [
    {
     "data": {
      "text/plain": [
       "(1800, 8)"
      ]
     },
     "execution_count": 7,
     "metadata": {},
     "output_type": "execute_result"
    }
   ],
   "source": [
    "reviews_pr_1.shape"
   ]
  },
  {
   "cell_type": "code",
   "execution_count": 8,
   "metadata": {},
   "outputs": [
    {
     "data": {
      "text/html": [
       "<div>\n",
       "<style scoped>\n",
       "    .dataframe tbody tr th:only-of-type {\n",
       "        vertical-align: middle;\n",
       "    }\n",
       "\n",
       "    .dataframe tbody tr th {\n",
       "        vertical-align: top;\n",
       "    }\n",
       "\n",
       "    .dataframe thead th {\n",
       "        text-align: right;\n",
       "    }\n",
       "</style>\n",
       "<table border=\"1\" class=\"dataframe\">\n",
       "  <thead>\n",
       "    <tr style=\"text-align: right;\">\n",
       "      <th></th>\n",
       "      <th>count</th>\n",
       "      <th>mean</th>\n",
       "      <th>std</th>\n",
       "      <th>min</th>\n",
       "      <th>25%</th>\n",
       "      <th>50%</th>\n",
       "      <th>75%</th>\n",
       "      <th>max</th>\n",
       "    </tr>\n",
       "  </thead>\n",
       "  <tbody>\n",
       "    <tr>\n",
       "      <th>Unnamed: 0</th>\n",
       "      <td>1800.0</td>\n",
       "      <td>899.500000</td>\n",
       "      <td>519.759560</td>\n",
       "      <td>0.0</td>\n",
       "      <td>449.75</td>\n",
       "      <td>899.5</td>\n",
       "      <td>1349.25</td>\n",
       "      <td>1799.0</td>\n",
       "    </tr>\n",
       "    <tr>\n",
       "      <th>stars_given</th>\n",
       "      <td>1770.0</td>\n",
       "      <td>3.975706</td>\n",
       "      <td>1.156483</td>\n",
       "      <td>1.0</td>\n",
       "      <td>3.00</td>\n",
       "      <td>4.0</td>\n",
       "      <td>5.00</td>\n",
       "      <td>5.0</td>\n",
       "    </tr>\n",
       "  </tbody>\n",
       "</table>\n",
       "</div>"
      ],
      "text/plain": [
       "              count        mean         std  min     25%    50%      75%  \\\n",
       "Unnamed: 0   1800.0  899.500000  519.759560  0.0  449.75  899.5  1349.25   \n",
       "stars_given  1770.0    3.975706    1.156483  1.0    3.00    4.0     5.00   \n",
       "\n",
       "                max  \n",
       "Unnamed: 0   1799.0  \n",
       "stars_given     5.0  "
      ]
     },
     "execution_count": 8,
     "metadata": {},
     "output_type": "execute_result"
    }
   ],
   "source": [
    "reviews_pr_1.describe().T"
   ]
  },
  {
   "cell_type": "code",
   "execution_count": 9,
   "metadata": {},
   "outputs": [
    {
     "data": {
      "text/plain": [
       "<Axes: >"
      ]
     },
     "execution_count": 9,
     "metadata": {},
     "output_type": "execute_result"
    },
    {
     "data": {
      "image/png": "[encoded data removed]",
      "text/plain": [
       "<Figure size 640x480 with 1 Axes>"
      ]
     },
     "metadata": {},
     "output_type": "display_data"
    }
   ],
   "source": [
    "reviews_pr_1.stars_given.hist()"
   ]
  },
  {
   "cell_type": "code",
   "execution_count": 10,
   "metadata": {},
   "outputs": [],
   "source": [
    "reviews_pr_2 = pd.read_csv('data/reviews_for_scifi/scifi_20-40.csv')"
   ]
  },
  {
   "cell_type": "code",
   "execution_count": 11,
   "metadata": {},
   "outputs": [
    {
     "data": {
      "text/plain": [
       "(1800, 8)"
      ]
     },
     "execution_count": 11,
     "metadata": {},
     "output_type": "execute_result"
    }
   ],
   "source": [
    "reviews_pr_2.shape"
   ]
  },
  {
   "cell_type": "code",
   "execution_count": 12,
   "metadata": {},
   "outputs": [
    {
     "data": {
      "text/html": [
       "<div>\n",
       "<style scoped>\n",
       "    .dataframe tbody tr th:only-of-type {\n",
       "        vertical-align: middle;\n",
       "    }\n",
       "\n",
       "    .dataframe tbody tr th {\n",
       "        vertical-align: top;\n",
       "    }\n",
       "\n",
       "    .dataframe thead th {\n",
       "        text-align: right;\n",
       "    }\n",
       "</style>\n",
       "<table border=\"1\" class=\"dataframe\">\n",
       "  <thead>\n",
       "    <tr style=\"text-align: right;\">\n",
       "      <th></th>\n",
       "      <th>count</th>\n",
       "      <th>mean</th>\n",
       "      <th>std</th>\n",
       "      <th>min</th>\n",
       "      <th>25%</th>\n",
       "      <th>50%</th>\n",
       "      <th>75%</th>\n",
       "      <th>max</th>\n",
       "    </tr>\n",
       "  </thead>\n",
       "  <tbody>\n",
       "    <tr>\n",
       "      <th>Unnamed: 0</th>\n",
       "      <td>1800.0</td>\n",
       "      <td>899.500000</td>\n",
       "      <td>519.759560</td>\n",
       "      <td>0.0</td>\n",
       "      <td>449.75</td>\n",
       "      <td>899.5</td>\n",
       "      <td>1349.25</td>\n",
       "      <td>1799.0</td>\n",
       "    </tr>\n",
       "    <tr>\n",
       "      <th>stars_given</th>\n",
       "      <td>1767.0</td>\n",
       "      <td>3.942841</td>\n",
       "      <td>1.099064</td>\n",
       "      <td>1.0</td>\n",
       "      <td>3.00</td>\n",
       "      <td>4.0</td>\n",
       "      <td>5.00</td>\n",
       "      <td>5.0</td>\n",
       "    </tr>\n",
       "  </tbody>\n",
       "</table>\n",
       "</div>"
      ],
      "text/plain": [
       "              count        mean         std  min     25%    50%      75%  \\\n",
       "Unnamed: 0   1800.0  899.500000  519.759560  0.0  449.75  899.5  1349.25   \n",
       "stars_given  1767.0    3.942841    1.099064  1.0    3.00    4.0     5.00   \n",
       "\n",
       "                max  \n",
       "Unnamed: 0   1799.0  \n",
       "stars_given     5.0  "
      ]
     },
     "execution_count": 12,
     "metadata": {},
     "output_type": "execute_result"
    }
   ],
   "source": [
    "reviews_pr_2.describe().T"
   ]
  },
  {
   "cell_type": "code",
   "execution_count": 13,
   "metadata": {},
   "outputs": [],
   "source": [
    "reviews_pr_3 = pd.read_csv('data/reviews_for_scifi/scifi_40-60.csv')"
   ]
  },
  {
   "cell_type": "code",
   "execution_count": 14,
   "metadata": {},
   "outputs": [
    {
     "data": {
      "text/plain": [
       "(1800, 8)"
      ]
     },
     "execution_count": 14,
     "metadata": {},
     "output_type": "execute_result"
    }
   ],
   "source": [
    "reviews_pr_3.shape"
   ]
  },
  {
   "cell_type": "code",
   "execution_count": 15,
   "metadata": {},
   "outputs": [
    {
     "data": {
      "text/html": [
       "<div>\n",
       "<style scoped>\n",
       "    .dataframe tbody tr th:only-of-type {\n",
       "        vertical-align: middle;\n",
       "    }\n",
       "\n",
       "    .dataframe tbody tr th {\n",
       "        vertical-align: top;\n",
       "    }\n",
       "\n",
       "    .dataframe thead th {\n",
       "        text-align: right;\n",
       "    }\n",
       "</style>\n",
       "<table border=\"1\" class=\"dataframe\">\n",
       "  <thead>\n",
       "    <tr style=\"text-align: right;\">\n",
       "      <th></th>\n",
       "      <th>count</th>\n",
       "      <th>mean</th>\n",
       "      <th>std</th>\n",
       "      <th>min</th>\n",
       "      <th>25%</th>\n",
       "      <th>50%</th>\n",
       "      <th>75%</th>\n",
       "      <th>max</th>\n",
       "    </tr>\n",
       "  </thead>\n",
       "  <tbody>\n",
       "    <tr>\n",
       "      <th>Unnamed: 0</th>\n",
       "      <td>1800.0</td>\n",
       "      <td>899.500000</td>\n",
       "      <td>519.75956</td>\n",
       "      <td>0.0</td>\n",
       "      <td>449.75</td>\n",
       "      <td>899.5</td>\n",
       "      <td>1349.25</td>\n",
       "      <td>1799.0</td>\n",
       "    </tr>\n",
       "    <tr>\n",
       "      <th>stars_given</th>\n",
       "      <td>1775.0</td>\n",
       "      <td>3.969577</td>\n",
       "      <td>1.06929</td>\n",
       "      <td>1.0</td>\n",
       "      <td>3.00</td>\n",
       "      <td>4.0</td>\n",
       "      <td>5.00</td>\n",
       "      <td>5.0</td>\n",
       "    </tr>\n",
       "  </tbody>\n",
       "</table>\n",
       "</div>"
      ],
      "text/plain": [
       "              count        mean        std  min     25%    50%      75%  \\\n",
       "Unnamed: 0   1800.0  899.500000  519.75956  0.0  449.75  899.5  1349.25   \n",
       "stars_given  1775.0    3.969577    1.06929  1.0    3.00    4.0     5.00   \n",
       "\n",
       "                max  \n",
       "Unnamed: 0   1799.0  \n",
       "stars_given     5.0  "
      ]
     },
     "execution_count": 15,
     "metadata": {},
     "output_type": "execute_result"
    }
   ],
   "source": [
    "reviews_pr_3.describe().T"
   ]
  },
  {
   "cell_type": "code",
   "execution_count": 16,
   "metadata": {},
   "outputs": [],
   "source": [
    "reviews_pr_4 = pd.read_csv('data/reviews_for_scifi/scifi_40-60.csv')"
   ]
  },
  {
   "cell_type": "code",
   "execution_count": 17,
   "metadata": {},
   "outputs": [
    {
     "data": {
      "text/plain": [
       "(1800, 8)"
      ]
     },
     "execution_count": 17,
     "metadata": {},
     "output_type": "execute_result"
    }
   ],
   "source": [
    "reviews_pr_4.shape"
   ]
  },
  {
   "cell_type": "code",
   "execution_count": 18,
   "metadata": {},
   "outputs": [
    {
     "data": {
      "text/html": [
       "<div>\n",
       "<style scoped>\n",
       "    .dataframe tbody tr th:only-of-type {\n",
       "        vertical-align: middle;\n",
       "    }\n",
       "\n",
       "    .dataframe tbody tr th {\n",
       "        vertical-align: top;\n",
       "    }\n",
       "\n",
       "    .dataframe thead th {\n",
       "        text-align: right;\n",
       "    }\n",
       "</style>\n",
       "<table border=\"1\" class=\"dataframe\">\n",
       "  <thead>\n",
       "    <tr style=\"text-align: right;\">\n",
       "      <th></th>\n",
       "      <th>count</th>\n",
       "      <th>mean</th>\n",
       "      <th>std</th>\n",
       "      <th>min</th>\n",
       "      <th>25%</th>\n",
       "      <th>50%</th>\n",
       "      <th>75%</th>\n",
       "      <th>max</th>\n",
       "    </tr>\n",
       "  </thead>\n",
       "  <tbody>\n",
       "    <tr>\n",
       "      <th>Unnamed: 0</th>\n",
       "      <td>1800.0</td>\n",
       "      <td>899.500000</td>\n",
       "      <td>519.75956</td>\n",
       "      <td>0.0</td>\n",
       "      <td>449.75</td>\n",
       "      <td>899.5</td>\n",
       "      <td>1349.25</td>\n",
       "      <td>1799.0</td>\n",
       "    </tr>\n",
       "    <tr>\n",
       "      <th>stars_given</th>\n",
       "      <td>1775.0</td>\n",
       "      <td>3.969577</td>\n",
       "      <td>1.06929</td>\n",
       "      <td>1.0</td>\n",
       "      <td>3.00</td>\n",
       "      <td>4.0</td>\n",
       "      <td>5.00</td>\n",
       "      <td>5.0</td>\n",
       "    </tr>\n",
       "  </tbody>\n",
       "</table>\n",
       "</div>"
      ],
      "text/plain": [
       "              count        mean        std  min     25%    50%      75%  \\\n",
       "Unnamed: 0   1800.0  899.500000  519.75956  0.0  449.75  899.5  1349.25   \n",
       "stars_given  1775.0    3.969577    1.06929  1.0    3.00    4.0     5.00   \n",
       "\n",
       "                max  \n",
       "Unnamed: 0   1799.0  \n",
       "stars_given     5.0  "
      ]
     },
     "execution_count": 18,
     "metadata": {},
     "output_type": "execute_result"
    }
   ],
   "source": [
    "reviews_pr_4.describe().T"
   ]
  },
  {
   "cell_type": "code",
   "execution_count": 19,
   "metadata": {},
   "outputs": [],
   "source": [
    "reviews_pr_5 = pd.read_csv('data/reviews_for_scifi/scifi_60-80.csv')"
   ]
  },
  {
   "cell_type": "code",
   "execution_count": 20,
   "metadata": {},
   "outputs": [
    {
     "data": {
      "text/plain": [
       "(1800, 8)"
      ]
     },
     "execution_count": 20,
     "metadata": {},
     "output_type": "execute_result"
    }
   ],
   "source": [
    "reviews_pr_5.shape"
   ]
  },
  {
   "cell_type": "code",
   "execution_count": 21,
   "metadata": {},
   "outputs": [
    {
     "data": {
      "text/html": [
       "<div>\n",
       "<style scoped>\n",
       "    .dataframe tbody tr th:only-of-type {\n",
       "        vertical-align: middle;\n",
       "    }\n",
       "\n",
       "    .dataframe tbody tr th {\n",
       "        vertical-align: top;\n",
       "    }\n",
       "\n",
       "    .dataframe thead th {\n",
       "        text-align: right;\n",
       "    }\n",
       "</style>\n",
       "<table border=\"1\" class=\"dataframe\">\n",
       "  <thead>\n",
       "    <tr style=\"text-align: right;\">\n",
       "      <th></th>\n",
       "      <th>count</th>\n",
       "      <th>mean</th>\n",
       "      <th>std</th>\n",
       "      <th>min</th>\n",
       "      <th>25%</th>\n",
       "      <th>50%</th>\n",
       "      <th>75%</th>\n",
       "      <th>max</th>\n",
       "    </tr>\n",
       "  </thead>\n",
       "  <tbody>\n",
       "    <tr>\n",
       "      <th>Unnamed: 0</th>\n",
       "      <td>1800.0</td>\n",
       "      <td>899.500000</td>\n",
       "      <td>519.759560</td>\n",
       "      <td>0.0</td>\n",
       "      <td>449.75</td>\n",
       "      <td>899.5</td>\n",
       "      <td>1349.25</td>\n",
       "      <td>1799.0</td>\n",
       "    </tr>\n",
       "    <tr>\n",
       "      <th>stars_given</th>\n",
       "      <td>1777.0</td>\n",
       "      <td>3.853123</td>\n",
       "      <td>1.070874</td>\n",
       "      <td>1.0</td>\n",
       "      <td>3.00</td>\n",
       "      <td>4.0</td>\n",
       "      <td>5.00</td>\n",
       "      <td>5.0</td>\n",
       "    </tr>\n",
       "  </tbody>\n",
       "</table>\n",
       "</div>"
      ],
      "text/plain": [
       "              count        mean         std  min     25%    50%      75%  \\\n",
       "Unnamed: 0   1800.0  899.500000  519.759560  0.0  449.75  899.5  1349.25   \n",
       "stars_given  1777.0    3.853123    1.070874  1.0    3.00    4.0     5.00   \n",
       "\n",
       "                max  \n",
       "Unnamed: 0   1799.0  \n",
       "stars_given     5.0  "
      ]
     },
     "execution_count": 21,
     "metadata": {},
     "output_type": "execute_result"
    }
   ],
   "source": [
    "reviews_pr_5.describe().T"
   ]
  },
  {
   "cell_type": "code",
   "execution_count": 22,
   "metadata": {},
   "outputs": [],
   "source": [
    "reviews_pr_6 = pd.read_csv('data/reviews_for_scifi/scifi_80-100.csv')"
   ]
  },
  {
   "cell_type": "code",
   "execution_count": 23,
   "metadata": {},
   "outputs": [
    {
     "data": {
      "text/plain": [
       "(1800, 8)"
      ]
     },
     "execution_count": 23,
     "metadata": {},
     "output_type": "execute_result"
    }
   ],
   "source": [
    "reviews_pr_6.shape"
   ]
  },
  {
   "cell_type": "code",
   "execution_count": 24,
   "metadata": {},
   "outputs": [
    {
     "data": {
      "text/html": [
       "<div>\n",
       "<style scoped>\n",
       "    .dataframe tbody tr th:only-of-type {\n",
       "        vertical-align: middle;\n",
       "    }\n",
       "\n",
       "    .dataframe tbody tr th {\n",
       "        vertical-align: top;\n",
       "    }\n",
       "\n",
       "    .dataframe thead th {\n",
       "        text-align: right;\n",
       "    }\n",
       "</style>\n",
       "<table border=\"1\" class=\"dataframe\">\n",
       "  <thead>\n",
       "    <tr style=\"text-align: right;\">\n",
       "      <th></th>\n",
       "      <th>count</th>\n",
       "      <th>mean</th>\n",
       "      <th>std</th>\n",
       "      <th>min</th>\n",
       "      <th>25%</th>\n",
       "      <th>50%</th>\n",
       "      <th>75%</th>\n",
       "      <th>max</th>\n",
       "    </tr>\n",
       "  </thead>\n",
       "  <tbody>\n",
       "    <tr>\n",
       "      <th>Unnamed: 0</th>\n",
       "      <td>1800.0</td>\n",
       "      <td>899.500000</td>\n",
       "      <td>519.759560</td>\n",
       "      <td>0.0</td>\n",
       "      <td>449.75</td>\n",
       "      <td>899.5</td>\n",
       "      <td>1349.25</td>\n",
       "      <td>1799.0</td>\n",
       "    </tr>\n",
       "    <tr>\n",
       "      <th>stars_given</th>\n",
       "      <td>1766.0</td>\n",
       "      <td>3.831823</td>\n",
       "      <td>1.081666</td>\n",
       "      <td>1.0</td>\n",
       "      <td>3.00</td>\n",
       "      <td>4.0</td>\n",
       "      <td>5.00</td>\n",
       "      <td>5.0</td>\n",
       "    </tr>\n",
       "  </tbody>\n",
       "</table>\n",
       "</div>"
      ],
      "text/plain": [
       "              count        mean         std  min     25%    50%      75%  \\\n",
       "Unnamed: 0   1800.0  899.500000  519.759560  0.0  449.75  899.5  1349.25   \n",
       "stars_given  1766.0    3.831823    1.081666  1.0    3.00    4.0     5.00   \n",
       "\n",
       "                max  \n",
       "Unnamed: 0   1799.0  \n",
       "stars_given     5.0  "
      ]
     },
     "execution_count": 24,
     "metadata": {},
     "output_type": "execute_result"
    }
   ],
   "source": [
    "reviews_pr_6.describe().T"
   ]
  },
  {
   "cell_type": "code",
   "execution_count": 25,
   "metadata": {},
   "outputs": [
    {
     "data": {
      "text/plain": [
       "Index(['Unnamed: 0', 'book_title', 'date', 'rname', 'rating', 'review',\n",
       "       'likes', 'stars_given'],\n",
       "      dtype='object')"
      ]
     },
     "execution_count": 25,
     "metadata": {},
     "output_type": "execute_result"
    }
   ],
   "source": [
    "reviews_pr_1.columns"
   ]
  },
  {
   "cell_type": "code",
   "execution_count": 26,
   "metadata": {},
   "outputs": [
    {
     "data": {
      "text/plain": [
       "Index(['Unnamed: 0', 'book_title', 'date', 'rname', 'rating', 'review',\n",
       "       'likes', 'stars_given'],\n",
       "      dtype='object')"
      ]
     },
     "execution_count": 26,
     "metadata": {},
     "output_type": "execute_result"
    }
   ],
   "source": [
    "reviews_pr_2.columns"
   ]
  },
  {
   "cell_type": "code",
   "execution_count": 27,
   "metadata": {},
   "outputs": [
    {
     "data": {
      "text/plain": [
       "Index(['Unnamed: 0', 'book_title', 'date', 'rname', 'rating', 'review',\n",
       "       'likes', 'stars_given'],\n",
       "      dtype='object')"
      ]
     },
     "execution_count": 27,
     "metadata": {},
     "output_type": "execute_result"
    }
   ],
   "source": [
    "reviews_pr_3.columns"
   ]
  },
  {
   "cell_type": "code",
   "execution_count": 28,
   "metadata": {},
   "outputs": [
    {
     "data": {
      "text/plain": [
       "Index(['Unnamed: 0', 'book_title', 'date', 'rname', 'rating', 'review',\n",
       "       'likes', 'stars_given'],\n",
       "      dtype='object')"
      ]
     },
     "execution_count": 28,
     "metadata": {},
     "output_type": "execute_result"
    }
   ],
   "source": [
    "reviews_pr_4.columns"
   ]
  },
  {
   "cell_type": "code",
   "execution_count": 29,
   "metadata": {},
   "outputs": [
    {
     "data": {
      "text/plain": [
       "Index(['Unnamed: 0', 'book_title', 'date', 'rname', 'rating', 'review',\n",
       "       'likes', 'stars_given'],\n",
       "      dtype='object')"
      ]
     },
     "execution_count": 29,
     "metadata": {},
     "output_type": "execute_result"
    }
   ],
   "source": [
    "reviews_pr_5.columns"
   ]
  },
  {
   "cell_type": "code",
   "execution_count": 30,
   "metadata": {},
   "outputs": [
    {
     "data": {
      "text/plain": [
       "Index(['Unnamed: 0', 'book_title', 'date', 'rname', 'rating', 'review',\n",
       "       'likes', 'stars_given'],\n",
       "      dtype='object')"
      ]
     },
     "execution_count": 30,
     "metadata": {},
     "output_type": "execute_result"
    }
   ],
   "source": [
    "reviews_pr_6.columns"
   ]
  },
  {
   "cell_type": "code",
   "execution_count": 31,
   "metadata": {},
   "outputs": [],
   "source": [
    "dfs = [reviews_pr_1, reviews_pr_2, reviews_pr_3, reviews_pr_4, reviews_pr_5, reviews_pr_6]"
   ]
  },
  {
   "cell_type": "code",
   "execution_count": 32,
   "metadata": {},
   "outputs": [],
   "source": [
    "reviews_merged = pd.concat(dfs, ignore_index = True)"
   ]
  },
  {
   "cell_type": "code",
   "execution_count": 33,
   "metadata": {},
   "outputs": [
    {
     "data": {
      "text/plain": [
       "(10800, 8)"
      ]
     },
     "execution_count": 33,
     "metadata": {},
     "output_type": "execute_result"
    }
   ],
   "source": [
    "reviews_merged.shape"
   ]
  },
  {
   "cell_type": "code",
   "execution_count": 34,
   "metadata": {},
   "outputs": [
    {
     "data": {
      "text/plain": [
       "Unnamed: 0       int64\n",
       "book_title      object\n",
       "date            object\n",
       "rname           object\n",
       "rating          object\n",
       "review          object\n",
       "likes           object\n",
       "stars_given    float64\n",
       "dtype: object"
      ]
     },
     "execution_count": 34,
     "metadata": {},
     "output_type": "execute_result"
    }
   ],
   "source": [
    "reviews_merged.dtypes"
   ]
  },
  {
   "cell_type": "code",
   "execution_count": 35,
   "metadata": {},
   "outputs": [],
   "source": [
    "reviews_merged = reviews_merged.drop('Unnamed: 0', axis=1)"
   ]
  },
  {
   "cell_type": "code",
   "execution_count": 36,
   "metadata": {},
   "outputs": [
    {
     "data": {
      "text/plain": [
       "Index(['book_title', 'date', 'rname', 'rating', 'review', 'likes',\n",
       "       'stars_given'],\n",
       "      dtype='object')"
      ]
     },
     "execution_count": 36,
     "metadata": {},
     "output_type": "execute_result"
    }
   ],
   "source": [
    "reviews_merged.columns"
   ]
  },
  {
   "cell_type": "code",
   "execution_count": 37,
   "metadata": {},
   "outputs": [],
   "source": [
    "reviews_merged = reviews_merged.drop('likes', axis=1)"
   ]
  },
  {
   "cell_type": "code",
   "execution_count": 38,
   "metadata": {},
   "outputs": [
    {
     "data": {
      "text/html": [
       "<div>\n",
       "<style scoped>\n",
       "    .dataframe tbody tr th:only-of-type {\n",
       "        vertical-align: middle;\n",
       "    }\n",
       "\n",
       "    .dataframe tbody tr th {\n",
       "        vertical-align: top;\n",
       "    }\n",
       "\n",
       "    .dataframe thead th {\n",
       "        text-align: right;\n",
       "    }\n",
       "</style>\n",
       "<table border=\"1\" class=\"dataframe\">\n",
       "  <thead>\n",
       "    <tr style=\"text-align: right;\">\n",
       "      <th></th>\n",
       "      <th>book_title</th>\n",
       "      <th>date</th>\n",
       "      <th>rname</th>\n",
       "      <th>rating</th>\n",
       "      <th>review</th>\n",
       "      <th>stars_given</th>\n",
       "    </tr>\n",
       "  </thead>\n",
       "  <tbody>\n",
       "    <tr>\n",
       "      <th>0</th>\n",
       "      <td>Dune</td>\n",
       "      <td>Mar 22, 2011</td>\n",
       "      <td>Rajat Ubhaykar</td>\n",
       "      <td>it was amazing</td>\n",
       "      <td>In my head, the purpose of this review is very...</td>\n",
       "      <td>5.0</td>\n",
       "    </tr>\n",
       "    <tr>\n",
       "      <th>1</th>\n",
       "      <td>Dune</td>\n",
       "      <td>Apr 29, 2014</td>\n",
       "      <td>Jay</td>\n",
       "      <td>did not like it</td>\n",
       "      <td>If this is the gold standard against which all...</td>\n",
       "      <td>1.0</td>\n",
       "    </tr>\n",
       "    <tr>\n",
       "      <th>2</th>\n",
       "      <td>Dune</td>\n",
       "      <td>Nov 20, 2008</td>\n",
       "      <td>Manny</td>\n",
       "      <td>really liked it</td>\n",
       "      <td>There's a characteristically witty essay by Bo...</td>\n",
       "      <td>4.0</td>\n",
       "    </tr>\n",
       "    <tr>\n",
       "      <th>3</th>\n",
       "      <td>Dune</td>\n",
       "      <td>Jun 24, 2007</td>\n",
       "      <td>John Wiswell</td>\n",
       "      <td>it was ok</td>\n",
       "      <td>No one should argue the importance Dune. It la...</td>\n",
       "      <td>2.0</td>\n",
       "    </tr>\n",
       "    <tr>\n",
       "      <th>4</th>\n",
       "      <td>Dune</td>\n",
       "      <td>Nov 13, 2021</td>\n",
       "      <td>Lala BooksandLala</td>\n",
       "      <td>it was amazing</td>\n",
       "      <td>just when you thought 2021 couldn't get any we...</td>\n",
       "      <td>5.0</td>\n",
       "    </tr>\n",
       "    <tr>\n",
       "      <th>...</th>\n",
       "      <td>...</td>\n",
       "      <td>...</td>\n",
       "      <td>...</td>\n",
       "      <td>...</td>\n",
       "      <td>...</td>\n",
       "      <td>...</td>\n",
       "    </tr>\n",
       "    <tr>\n",
       "      <th>10795</th>\n",
       "      <td>The Demolished Man</td>\n",
       "      <td>Dec 23, 2018</td>\n",
       "      <td>Gareth Howells</td>\n",
       "      <td>really liked it</td>\n",
       "      <td>Stunning book, and although written in 1952, i...</td>\n",
       "      <td>4.0</td>\n",
       "    </tr>\n",
       "    <tr>\n",
       "      <th>10796</th>\n",
       "      <td>The Demolished Man</td>\n",
       "      <td>Feb 28, 2020</td>\n",
       "      <td>Emlyn Roberts</td>\n",
       "      <td>it was amazing</td>\n",
       "      <td>A mind bending story of murder and deceit. An ...</td>\n",
       "      <td>5.0</td>\n",
       "    </tr>\n",
       "    <tr>\n",
       "      <th>10797</th>\n",
       "      <td>The Demolished Man</td>\n",
       "      <td>Aug 10, 2019</td>\n",
       "      <td>Sue Chant</td>\n",
       "      <td>it was amazing</td>\n",
       "      <td>Interesting ideas and well written though jumb...</td>\n",
       "      <td>5.0</td>\n",
       "    </tr>\n",
       "    <tr>\n",
       "      <th>10798</th>\n",
       "      <td>The Demolished Man</td>\n",
       "      <td>Jul 06, 2020</td>\n",
       "      <td>Anna</td>\n",
       "      <td>liked it</td>\n",
       "      <td>The only reason I finished this is because I w...</td>\n",
       "      <td>3.0</td>\n",
       "    </tr>\n",
       "    <tr>\n",
       "      <th>10799</th>\n",
       "      <td>The Demolished Man</td>\n",
       "      <td>Jul 31, 2020</td>\n",
       "      <td>NaN</td>\n",
       "      <td>it was ok</td>\n",
       "      <td>NaN</td>\n",
       "      <td>2.0</td>\n",
       "    </tr>\n",
       "  </tbody>\n",
       "</table>\n",
       "<p>10800 rows × 6 columns</p>\n",
       "</div>"
      ],
      "text/plain": [
       "               book_title          date              rname           rating  \\\n",
       "0                    Dune  Mar 22, 2011     Rajat Ubhaykar   it was amazing   \n",
       "1                    Dune  Apr 29, 2014                Jay  did not like it   \n",
       "2                    Dune  Nov 20, 2008              Manny  really liked it   \n",
       "3                    Dune  Jun 24, 2007       John Wiswell        it was ok   \n",
       "4                    Dune  Nov 13, 2021  Lala BooksandLala   it was amazing   \n",
       "...                   ...           ...                ...              ...   \n",
       "10795  The Demolished Man  Dec 23, 2018     Gareth Howells  really liked it   \n",
       "10796  The Demolished Man  Feb 28, 2020      Emlyn Roberts   it was amazing   \n",
       "10797  The Demolished Man  Aug 10, 2019          Sue Chant   it was amazing   \n",
       "10798  The Demolished Man  Jul 06, 2020               Anna         liked it   \n",
       "10799  The Demolished Man  Jul 31, 2020                NaN        it was ok   \n",
       "\n",
       "                                                  review  stars_given  \n",
       "0      In my head, the purpose of this review is very...          5.0  \n",
       "1      If this is the gold standard against which all...          1.0  \n",
       "2      There's a characteristically witty essay by Bo...          4.0  \n",
       "3      No one should argue the importance Dune. It la...          2.0  \n",
       "4      just when you thought 2021 couldn't get any we...          5.0  \n",
       "...                                                  ...          ...  \n",
       "10795  Stunning book, and although written in 1952, i...          4.0  \n",
       "10796  A mind bending story of murder and deceit. An ...          5.0  \n",
       "10797  Interesting ideas and well written though jumb...          5.0  \n",
       "10798  The only reason I finished this is because I w...          3.0  \n",
       "10799                                                NaN          2.0  \n",
       "\n",
       "[10800 rows x 6 columns]"
      ]
     },
     "execution_count": 38,
     "metadata": {},
     "output_type": "execute_result"
    }
   ],
   "source": [
    "reviews_merged"
   ]
  },
  {
   "cell_type": "code",
   "execution_count": 39,
   "metadata": {},
   "outputs": [],
   "source": [
    "anonimyzer_func = lambda x: hashlib.sha256(x.encode()).hexdigest()"
   ]
  },
  {
   "cell_type": "code",
   "execution_count": 40,
   "metadata": {},
   "outputs": [
    {
     "data": {
      "text/plain": [
       "book_title      object\n",
       "date            object\n",
       "rname           object\n",
       "rating          object\n",
       "review          object\n",
       "stars_given    float64\n",
       "dtype: object"
      ]
     },
     "execution_count": 40,
     "metadata": {},
     "output_type": "execute_result"
    }
   ],
   "source": [
    "reviews_merged.dtypes"
   ]
  },
  {
   "cell_type": "code",
   "execution_count": 41,
   "metadata": {},
   "outputs": [],
   "source": [
    "reviews_merged['rname'] = reviews_merged['rname'].astype('string')"
   ]
  },
  {
   "cell_type": "code",
   "execution_count": 42,
   "metadata": {},
   "outputs": [
    {
     "data": {
      "text/plain": [
       "book_title             object\n",
       "date                   object\n",
       "rname          string[python]\n",
       "rating                 object\n",
       "review                 object\n",
       "stars_given           float64\n",
       "dtype: object"
      ]
     },
     "execution_count": 42,
     "metadata": {},
     "output_type": "execute_result"
    }
   ],
   "source": [
    "reviews_merged.dtypes"
   ]
  },
  {
   "cell_type": "code",
   "execution_count": 43,
   "metadata": {},
   "outputs": [],
   "source": [
    "reviews_merged = reviews_merged.dropna()"
   ]
  },
  {
   "cell_type": "code",
   "execution_count": 44,
   "metadata": {},
   "outputs": [
    {
     "name": "stderr",
     "output_type": "stream",
     "text": [
      "C:\\Users\\Owner\\AppData\\Local\\Temp\\ipykernel_8200\\2805786451.py:1: SettingWithCopyWarning: \n",
      "A value is trying to be set on a copy of a slice from a DataFrame.\n",
      "Try using .loc[row_indexer,col_indexer] = value instead\n",
      "\n",
      "See the caveats in the documentation: https://pandas.pydata.org/pandas-docs/stable/user_guide/indexing.html#returning-a-view-versus-a-copy\n",
      "  reviews_merged['reviewer_anonymous'] = reviews_merged['rname'].apply(anonimyzer_func)\n"
     ]
    }
   ],
   "source": [
    "reviews_merged['reviewer_anonymous'] = reviews_merged['rname'].apply(anonimyzer_func)"
   ]
  },
  {
   "cell_type": "code",
   "execution_count": 45,
   "metadata": {},
   "outputs": [
    {
     "data": {
      "text/html": [
       "<div>\n",
       "<style scoped>\n",
       "    .dataframe tbody tr th:only-of-type {\n",
       "        vertical-align: middle;\n",
       "    }\n",
       "\n",
       "    .dataframe tbody tr th {\n",
       "        vertical-align: top;\n",
       "    }\n",
       "\n",
       "    .dataframe thead th {\n",
       "        text-align: right;\n",
       "    }\n",
       "</style>\n",
       "<table border=\"1\" class=\"dataframe\">\n",
       "  <thead>\n",
       "    <tr style=\"text-align: right;\">\n",
       "      <th></th>\n",
       "      <th>book_title</th>\n",
       "      <th>date</th>\n",
       "      <th>rname</th>\n",
       "      <th>rating</th>\n",
       "      <th>review</th>\n",
       "      <th>stars_given</th>\n",
       "      <th>reviewer_anonymous</th>\n",
       "    </tr>\n",
       "  </thead>\n",
       "  <tbody>\n",
       "    <tr>\n",
       "      <th>0</th>\n",
       "      <td>Dune</td>\n",
       "      <td>Mar 22, 2011</td>\n",
       "      <td>Rajat Ubhaykar</td>\n",
       "      <td>it was amazing</td>\n",
       "      <td>In my head, the purpose of this review is very...</td>\n",
       "      <td>5.0</td>\n",
       "      <td>c5cdbdf3fc731351e44b01b9d786e167adf2c74434a318...</td>\n",
       "    </tr>\n",
       "    <tr>\n",
       "      <th>1</th>\n",
       "      <td>Dune</td>\n",
       "      <td>Apr 29, 2014</td>\n",
       "      <td>Jay</td>\n",
       "      <td>did not like it</td>\n",
       "      <td>If this is the gold standard against which all...</td>\n",
       "      <td>1.0</td>\n",
       "      <td>0c9ab8c55d678ea513149008ce0ca19990aabc50f6bde8...</td>\n",
       "    </tr>\n",
       "    <tr>\n",
       "      <th>2</th>\n",
       "      <td>Dune</td>\n",
       "      <td>Nov 20, 2008</td>\n",
       "      <td>Manny</td>\n",
       "      <td>really liked it</td>\n",
       "      <td>There's a characteristically witty essay by Bo...</td>\n",
       "      <td>4.0</td>\n",
       "      <td>06db99a23f69d8ddd8212272bd26a7ea2c02b37a146bbf...</td>\n",
       "    </tr>\n",
       "    <tr>\n",
       "      <th>3</th>\n",
       "      <td>Dune</td>\n",
       "      <td>Jun 24, 2007</td>\n",
       "      <td>John Wiswell</td>\n",
       "      <td>it was ok</td>\n",
       "      <td>No one should argue the importance Dune. It la...</td>\n",
       "      <td>2.0</td>\n",
       "      <td>80dcb1d46270dfe2f2afd3349e4f3c3500ae8c853e8575...</td>\n",
       "    </tr>\n",
       "    <tr>\n",
       "      <th>4</th>\n",
       "      <td>Dune</td>\n",
       "      <td>Nov 13, 2021</td>\n",
       "      <td>Lala BooksandLala</td>\n",
       "      <td>it was amazing</td>\n",
       "      <td>just when you thought 2021 couldn't get any we...</td>\n",
       "      <td>5.0</td>\n",
       "      <td>f917d3a786598500bb9dd905651958265a1ae3289c8964...</td>\n",
       "    </tr>\n",
       "  </tbody>\n",
       "</table>\n",
       "</div>"
      ],
      "text/plain": [
       "  book_title          date              rname           rating  \\\n",
       "0       Dune  Mar 22, 2011     Rajat Ubhaykar   it was amazing   \n",
       "1       Dune  Apr 29, 2014                Jay  did not like it   \n",
       "2       Dune  Nov 20, 2008              Manny  really liked it   \n",
       "3       Dune  Jun 24, 2007       John Wiswell        it was ok   \n",
       "4       Dune  Nov 13, 2021  Lala BooksandLala   it was amazing   \n",
       "\n",
       "                                              review  stars_given  \\\n",
       "0  In my head, the purpose of this review is very...          5.0   \n",
       "1  If this is the gold standard against which all...          1.0   \n",
       "2  There's a characteristically witty essay by Bo...          4.0   \n",
       "3  No one should argue the importance Dune. It la...          2.0   \n",
       "4  just when you thought 2021 couldn't get any we...          5.0   \n",
       "\n",
       "                                  reviewer_anonymous  \n",
       "0  c5cdbdf3fc731351e44b01b9d786e167adf2c74434a318...  \n",
       "1  0c9ab8c55d678ea513149008ce0ca19990aabc50f6bde8...  \n",
       "2  06db99a23f69d8ddd8212272bd26a7ea2c02b37a146bbf...  \n",
       "3  80dcb1d46270dfe2f2afd3349e4f3c3500ae8c853e8575...  \n",
       "4  f917d3a786598500bb9dd905651958265a1ae3289c8964...  "
      ]
     },
     "execution_count": 45,
     "metadata": {},
     "output_type": "execute_result"
    }
   ],
   "source": [
    "reviews_merged.head()"
   ]
  },
  {
   "cell_type": "code",
   "execution_count": 46,
   "metadata": {},
   "outputs": [],
   "source": [
    "reviews_tidy = reviews_merged.drop('rname', axis=1)"
   ]
  },
  {
   "cell_type": "code",
   "execution_count": 47,
   "metadata": {},
   "outputs": [],
   "source": [
    "reviews_tidy = reviews_tidy.drop('rating', axis=1)"
   ]
  },
  {
   "cell_type": "code",
   "execution_count": 48,
   "metadata": {},
   "outputs": [],
   "source": [
    "reviews_tidy = reviews_tidy[['date', 'book_title', 'reviewer_anonymous', 'review', 'stars_given']]"
   ]
  },
  {
   "cell_type": "code",
   "execution_count": 49,
   "metadata": {},
   "outputs": [
    {
     "data": {
      "text/html": [
       "<div>\n",
       "<style scoped>\n",
       "    .dataframe tbody tr th:only-of-type {\n",
       "        vertical-align: middle;\n",
       "    }\n",
       "\n",
       "    .dataframe tbody tr th {\n",
       "        vertical-align: top;\n",
       "    }\n",
       "\n",
       "    .dataframe thead th {\n",
       "        text-align: right;\n",
       "    }\n",
       "</style>\n",
       "<table border=\"1\" class=\"dataframe\">\n",
       "  <thead>\n",
       "    <tr style=\"text-align: right;\">\n",
       "      <th></th>\n",
       "      <th>date</th>\n",
       "      <th>book_title</th>\n",
       "      <th>reviewer_anonymous</th>\n",
       "      <th>review</th>\n",
       "      <th>stars_given</th>\n",
       "    </tr>\n",
       "  </thead>\n",
       "  <tbody>\n",
       "    <tr>\n",
       "      <th>0</th>\n",
       "      <td>Mar 22, 2011</td>\n",
       "      <td>Dune</td>\n",
       "      <td>c5cdbdf3fc731351e44b01b9d786e167adf2c74434a318...</td>\n",
       "      <td>In my head, the purpose of this review is very...</td>\n",
       "      <td>5.0</td>\n",
       "    </tr>\n",
       "    <tr>\n",
       "      <th>1</th>\n",
       "      <td>Apr 29, 2014</td>\n",
       "      <td>Dune</td>\n",
       "      <td>0c9ab8c55d678ea513149008ce0ca19990aabc50f6bde8...</td>\n",
       "      <td>If this is the gold standard against which all...</td>\n",
       "      <td>1.0</td>\n",
       "    </tr>\n",
       "    <tr>\n",
       "      <th>2</th>\n",
       "      <td>Nov 20, 2008</td>\n",
       "      <td>Dune</td>\n",
       "      <td>06db99a23f69d8ddd8212272bd26a7ea2c02b37a146bbf...</td>\n",
       "      <td>There's a characteristically witty essay by Bo...</td>\n",
       "      <td>4.0</td>\n",
       "    </tr>\n",
       "    <tr>\n",
       "      <th>3</th>\n",
       "      <td>Jun 24, 2007</td>\n",
       "      <td>Dune</td>\n",
       "      <td>80dcb1d46270dfe2f2afd3349e4f3c3500ae8c853e8575...</td>\n",
       "      <td>No one should argue the importance Dune. It la...</td>\n",
       "      <td>2.0</td>\n",
       "    </tr>\n",
       "    <tr>\n",
       "      <th>4</th>\n",
       "      <td>Nov 13, 2021</td>\n",
       "      <td>Dune</td>\n",
       "      <td>f917d3a786598500bb9dd905651958265a1ae3289c8964...</td>\n",
       "      <td>just when you thought 2021 couldn't get any we...</td>\n",
       "      <td>5.0</td>\n",
       "    </tr>\n",
       "  </tbody>\n",
       "</table>\n",
       "</div>"
      ],
      "text/plain": [
       "           date book_title                                 reviewer_anonymous  \\\n",
       "0  Mar 22, 2011       Dune  c5cdbdf3fc731351e44b01b9d786e167adf2c74434a318...   \n",
       "1  Apr 29, 2014       Dune  0c9ab8c55d678ea513149008ce0ca19990aabc50f6bde8...   \n",
       "2  Nov 20, 2008       Dune  06db99a23f69d8ddd8212272bd26a7ea2c02b37a146bbf...   \n",
       "3  Jun 24, 2007       Dune  80dcb1d46270dfe2f2afd3349e4f3c3500ae8c853e8575...   \n",
       "4  Nov 13, 2021       Dune  f917d3a786598500bb9dd905651958265a1ae3289c8964...   \n",
       "\n",
       "                                              review  stars_given  \n",
       "0  In my head, the purpose of this review is very...          5.0  \n",
       "1  If this is the gold standard against which all...          1.0  \n",
       "2  There's a characteristically witty essay by Bo...          4.0  \n",
       "3  No one should argue the importance Dune. It la...          2.0  \n",
       "4  just when you thought 2021 couldn't get any we...          5.0  "
      ]
     },
     "execution_count": 49,
     "metadata": {},
     "output_type": "execute_result"
    }
   ],
   "source": [
    "reviews_tidy.head()"
   ]
  },
  {
   "cell_type": "code",
   "execution_count": 50,
   "metadata": {},
   "outputs": [
    {
     "data": {
      "text/plain": [
       "date                   object\n",
       "book_title             object\n",
       "reviewer_anonymous     object\n",
       "review                 object\n",
       "stars_given           float64\n",
       "dtype: object"
      ]
     },
     "execution_count": 50,
     "metadata": {},
     "output_type": "execute_result"
    }
   ],
   "source": [
    "reviews_tidy.dtypes"
   ]
  },
  {
   "cell_type": "code",
   "execution_count": 51,
   "metadata": {},
   "outputs": [],
   "source": [
    "reviews_tidy.date = pd.to_datetime(reviews_tidy.date)"
   ]
  },
  {
   "cell_type": "code",
   "execution_count": 52,
   "metadata": {},
   "outputs": [
    {
     "data": {
      "text/plain": [
       "date                  datetime64[ns]\n",
       "book_title                    object\n",
       "reviewer_anonymous            object\n",
       "review                        object\n",
       "stars_given                  float64\n",
       "dtype: object"
      ]
     },
     "execution_count": 52,
     "metadata": {},
     "output_type": "execute_result"
    }
   ],
   "source": [
    "reviews_tidy.dtypes"
   ]
  },
  {
   "cell_type": "code",
   "execution_count": 53,
   "metadata": {},
   "outputs": [
    {
     "data": {
      "text/html": [
       "<div>\n",
       "<style scoped>\n",
       "    .dataframe tbody tr th:only-of-type {\n",
       "        vertical-align: middle;\n",
       "    }\n",
       "\n",
       "    .dataframe tbody tr th {\n",
       "        vertical-align: top;\n",
       "    }\n",
       "\n",
       "    .dataframe thead th {\n",
       "        text-align: right;\n",
       "    }\n",
       "</style>\n",
       "<table border=\"1\" class=\"dataframe\">\n",
       "  <thead>\n",
       "    <tr style=\"text-align: right;\">\n",
       "      <th></th>\n",
       "      <th>date</th>\n",
       "      <th>book_title</th>\n",
       "      <th>reviewer_anonymous</th>\n",
       "      <th>review</th>\n",
       "      <th>stars_given</th>\n",
       "    </tr>\n",
       "  </thead>\n",
       "  <tbody>\n",
       "    <tr>\n",
       "      <th>0</th>\n",
       "      <td>2011-03-22</td>\n",
       "      <td>Dune</td>\n",
       "      <td>c5cdbdf3fc731351e44b01b9d786e167adf2c74434a318...</td>\n",
       "      <td>In my head, the purpose of this review is very...</td>\n",
       "      <td>5.0</td>\n",
       "    </tr>\n",
       "    <tr>\n",
       "      <th>1</th>\n",
       "      <td>2014-04-29</td>\n",
       "      <td>Dune</td>\n",
       "      <td>0c9ab8c55d678ea513149008ce0ca19990aabc50f6bde8...</td>\n",
       "      <td>If this is the gold standard against which all...</td>\n",
       "      <td>1.0</td>\n",
       "    </tr>\n",
       "    <tr>\n",
       "      <th>2</th>\n",
       "      <td>2008-11-20</td>\n",
       "      <td>Dune</td>\n",
       "      <td>06db99a23f69d8ddd8212272bd26a7ea2c02b37a146bbf...</td>\n",
       "      <td>There's a characteristically witty essay by Bo...</td>\n",
       "      <td>4.0</td>\n",
       "    </tr>\n",
       "    <tr>\n",
       "      <th>3</th>\n",
       "      <td>2007-06-24</td>\n",
       "      <td>Dune</td>\n",
       "      <td>80dcb1d46270dfe2f2afd3349e4f3c3500ae8c853e8575...</td>\n",
       "      <td>No one should argue the importance Dune. It la...</td>\n",
       "      <td>2.0</td>\n",
       "    </tr>\n",
       "    <tr>\n",
       "      <th>4</th>\n",
       "      <td>2021-11-13</td>\n",
       "      <td>Dune</td>\n",
       "      <td>f917d3a786598500bb9dd905651958265a1ae3289c8964...</td>\n",
       "      <td>just when you thought 2021 couldn't get any we...</td>\n",
       "      <td>5.0</td>\n",
       "    </tr>\n",
       "    <tr>\n",
       "      <th>...</th>\n",
       "      <td>...</td>\n",
       "      <td>...</td>\n",
       "      <td>...</td>\n",
       "      <td>...</td>\n",
       "      <td>...</td>\n",
       "    </tr>\n",
       "    <tr>\n",
       "      <th>10794</th>\n",
       "      <td>2019-04-02</td>\n",
       "      <td>The Demolished Man</td>\n",
       "      <td>b51ca4e22a93d820f1e17c65e36fa658c43e766240abdb...</td>\n",
       "      <td>This is a very fun noir/SF mashup, with plenty...</td>\n",
       "      <td>4.0</td>\n",
       "    </tr>\n",
       "    <tr>\n",
       "      <th>10795</th>\n",
       "      <td>2018-12-23</td>\n",
       "      <td>The Demolished Man</td>\n",
       "      <td>acd21ac9cbe3c1c19e679f1d79f3b250b01af5b2f31e9e...</td>\n",
       "      <td>Stunning book, and although written in 1952, i...</td>\n",
       "      <td>4.0</td>\n",
       "    </tr>\n",
       "    <tr>\n",
       "      <th>10796</th>\n",
       "      <td>2020-02-28</td>\n",
       "      <td>The Demolished Man</td>\n",
       "      <td>2d37494c07bad590980222b24b3f21ace1d77139b484be...</td>\n",
       "      <td>A mind bending story of murder and deceit. An ...</td>\n",
       "      <td>5.0</td>\n",
       "    </tr>\n",
       "    <tr>\n",
       "      <th>10797</th>\n",
       "      <td>2019-08-10</td>\n",
       "      <td>The Demolished Man</td>\n",
       "      <td>b8d51db09df4a0d7a41b3a06e1b733e607077c8145d360...</td>\n",
       "      <td>Interesting ideas and well written though jumb...</td>\n",
       "      <td>5.0</td>\n",
       "    </tr>\n",
       "    <tr>\n",
       "      <th>10798</th>\n",
       "      <td>2020-07-06</td>\n",
       "      <td>The Demolished Man</td>\n",
       "      <td>bf4fccd616251b678c56b9cb7a46819b1266853c180637...</td>\n",
       "      <td>The only reason I finished this is because I w...</td>\n",
       "      <td>3.0</td>\n",
       "    </tr>\n",
       "  </tbody>\n",
       "</table>\n",
       "<p>10624 rows × 5 columns</p>\n",
       "</div>"
      ],
      "text/plain": [
       "            date          book_title  \\\n",
       "0     2011-03-22                Dune   \n",
       "1     2014-04-29                Dune   \n",
       "2     2008-11-20                Dune   \n",
       "3     2007-06-24                Dune   \n",
       "4     2021-11-13                Dune   \n",
       "...          ...                 ...   \n",
       "10794 2019-04-02  The Demolished Man   \n",
       "10795 2018-12-23  The Demolished Man   \n",
       "10796 2020-02-28  The Demolished Man   \n",
       "10797 2019-08-10  The Demolished Man   \n",
       "10798 2020-07-06  The Demolished Man   \n",
       "\n",
       "                                      reviewer_anonymous  \\\n",
       "0      c5cdbdf3fc731351e44b01b9d786e167adf2c74434a318...   \n",
       "1      0c9ab8c55d678ea513149008ce0ca19990aabc50f6bde8...   \n",
       "2      06db99a23f69d8ddd8212272bd26a7ea2c02b37a146bbf...   \n",
       "3      80dcb1d46270dfe2f2afd3349e4f3c3500ae8c853e8575...   \n",
       "4      f917d3a786598500bb9dd905651958265a1ae3289c8964...   \n",
       "...                                                  ...   \n",
       "10794  b51ca4e22a93d820f1e17c65e36fa658c43e766240abdb...   \n",
       "10795  acd21ac9cbe3c1c19e679f1d79f3b250b01af5b2f31e9e...   \n",
       "10796  2d37494c07bad590980222b24b3f21ace1d77139b484be...   \n",
       "10797  b8d51db09df4a0d7a41b3a06e1b733e607077c8145d360...   \n",
       "10798  bf4fccd616251b678c56b9cb7a46819b1266853c180637...   \n",
       "\n",
       "                                                  review  stars_given  \n",
       "0      In my head, the purpose of this review is very...          5.0  \n",
       "1      If this is the gold standard against which all...          1.0  \n",
       "2      There's a characteristically witty essay by Bo...          4.0  \n",
       "3      No one should argue the importance Dune. It la...          2.0  \n",
       "4      just when you thought 2021 couldn't get any we...          5.0  \n",
       "...                                                  ...          ...  \n",
       "10794  This is a very fun noir/SF mashup, with plenty...          4.0  \n",
       "10795  Stunning book, and although written in 1952, i...          4.0  \n",
       "10796  A mind bending story of murder and deceit. An ...          5.0  \n",
       "10797  Interesting ideas and well written though jumb...          5.0  \n",
       "10798  The only reason I finished this is because I w...          3.0  \n",
       "\n",
       "[10624 rows x 5 columns]"
      ]
     },
     "execution_count": 53,
     "metadata": {},
     "output_type": "execute_result"
    }
   ],
   "source": [
    "reviews_tidy"
   ]
  },
  {
   "cell_type": "code",
   "execution_count": 54,
   "metadata": {},
   "outputs": [],
   "source": [
    "reviews_tidy = reviews_tidy.reset_index().rename(columns={'index': '#'})"
   ]
  },
  {
   "cell_type": "code",
   "execution_count": 55,
   "metadata": {},
   "outputs": [],
   "source": [
    "# Initialize lemmatizer\n",
    "lemmatizer = WordNetLemmatizer()\n",
    "\n",
    "# Define stopwords and punctuation\n",
    "stop_words = set(stopwords.words('english'))\n",
    "punctuation_table = str.maketrans('', '', string.punctuation)"
   ]
  },
  {
   "cell_type": "code",
   "execution_count": 56,
   "metadata": {},
   "outputs": [],
   "source": [
    "# Function to preprocess text\n",
    "def preprocess_text(text):\n",
    "    # Lowercasing\n",
    "    text = text.lower()\n",
    "    \n",
    "    # Removing punctuation\n",
    "    text = text.translate(punctuation_table)\n",
    "    \n",
    "    # Tokenization\n",
    "    tokens = word_tokenize(text)\n",
    "    \n",
    "    # Removing stopwords and lemmatization\n",
    "    cleaned_tokens = [lemmatizer.lemmatize(word) for word in tokens if word not in stop_words]\n",
    "    \n",
    "    # Joining tokens back to a single string\n",
    "    return ' '.join(cleaned_tokens)"
   ]
  },
  {
   "cell_type": "code",
   "execution_count": 57,
   "metadata": {},
   "outputs": [],
   "source": [
    "reviews_tidy['cleaned_review'] = reviews_tidy['review'].apply(preprocess_text)"
   ]
  },
  {
   "cell_type": "code",
   "execution_count": 58,
   "metadata": {},
   "outputs": [],
   "source": [
    "reviews_tidy.to_csv('data/cleaned_reviews_for_training_scifi.csv', index = None)"
   ]
  }
 ],
 "metadata": {
  "kernelspec": {
   "display_name": "base",
   "language": "python",
   "name": "python3"
  },
  "language_info": {
   "codemirror_mode": {
    "name": "ipython",
    "version": 3
   },
   "file_extension": ".py",
   "mimetype": "text/x-python",
   "name": "python",
   "nbconvert_exporter": "python",
   "pygments_lexer": "ipython3",
   "version": "3.11.7"
  }
 },
 "nbformat": 4,
 "nbformat_minor": 2
}
