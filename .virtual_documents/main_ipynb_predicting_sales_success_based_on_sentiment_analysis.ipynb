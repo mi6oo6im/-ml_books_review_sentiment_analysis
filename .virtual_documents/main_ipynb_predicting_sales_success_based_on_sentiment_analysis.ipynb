%matplotlib inline


# my imports
import pandas as pd
import numpy as np
import matplotlib.pyplot as plt





























good_reads_df = pd.read_csv('data/cleaned_reviews_for_training_scifi.csv')


plt.hist(good_reads_df.stars_given)
plt.title('Goodreads SciFi books reviews')
plt.xlabel('score')
plt.ylabel('frequency')
plt.show()


amazon_df = pd.read_csv('data\cleaned_reviews_for_training_various.csv')


amazon_df.columns


plt.hist(amazon_df.reviewer_rating)
plt.title('Amazon various books reviews')
plt.xlabel('score')
plt.ylabel('frequency')
plt.show()








accuracy_score_dict = {'models': ['LR', 'NB', 'SVM'],
                        'accuracy_score': [0.7571764705882353, 0.723764705882353, 0.7811764705882352]}

acc_df = pd.DataFrame(accuracy_score_dict)


plt.bar(acc_df.models, acc_df.accuracy_score)
plt.title('Model accuracy performance')
plt.xlabel('model')
plt.ylabel('accuracy')
plt.yticks([0.5, 0.6, 0.7, 0.8])
plt.ylim(0.5, 0.8)
plt.show()





time_to_train_seconds_dict = {'models': ['LR', 'NB', 'SVM'],
                        'ttt_seconds': [14.7, 7.1, 148]}

ttt_df = pd.DataFrame(time_to_train_seconds_dict)


plt.bar(ttt_df.models, ttt_df.ttt_seconds)
plt.title('Model time to train')
plt.xlabel('model')
plt.ylabel('seconds')
plt.show()











sales_df = pd.read_csv('data/sales_success_data.csv')


sales_df = sales_df.drop(columns= 'Unnamed: 0')


sales_df.shape


sales_df.head()





sales_df.positive_percentage.value_counts()





sales_df.is_successful.value_counts()


sales_df[sales_df.is_successful]





plt.scatter(sales_df.is_successful, sales_df.positive_percentage)
plt.xlabel('actual sales success')
plt.ylabel('predicted % positive reviews')
plt.xticks([True, False])
plt.show()


sales_df[(sales_df.positive_percentage == 100) &
         (sales_df.total_count >= 10)].is_successful.value_counts()

































