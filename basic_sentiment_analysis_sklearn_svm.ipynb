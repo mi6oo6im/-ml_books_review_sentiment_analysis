{
 "cells": [
  {
   "cell_type": "code",
   "execution_count": 1,
   "metadata": {},
   "outputs": [],
   "source": [
    "%matplotlib inline"
   ]
  },
  {
   "cell_type": "code",
   "execution_count": 2,
   "metadata": {},
   "outputs": [],
   "source": [
    "# my imports\n",
    "import pandas as pd\n",
    "from sklearn.model_selection import train_test_split\n",
    "from sklearn.feature_extraction.text import TfidfVectorizer\n",
    "from sklearn.svm import SVC\n",
    "from sklearn.metrics import classification_report\n",
    "from sklearn.metrics import accuracy_score"
   ]
  },
  {
   "cell_type": "code",
   "execution_count": 3,
   "metadata": {},
   "outputs": [],
   "source": [
    "reviews_df = pd.read_csv('data/cleaned_reviews_for_training_scifi.csv')"
   ]
  },
  {
   "cell_type": "code",
   "execution_count": 4,
   "metadata": {},
   "outputs": [],
   "source": [
    "# Convert stars to sentiment labels\n",
    "reviews_df['sentiment'] = reviews_df['stars_given'].apply(lambda x: 'positive' if x > 3 else ('neutral' if x == 3 else 'negative'))"
   ]
  },
  {
   "cell_type": "code",
   "execution_count": 5,
   "metadata": {},
   "outputs": [],
   "source": [
    "# Split the data\n",
    "X_train, X_test, y_train, y_test = train_test_split(reviews_df['review'], reviews_df['sentiment'], test_size=0.2, random_state=42)\n"
   ]
  },
  {
   "cell_type": "code",
   "execution_count": 6,
   "metadata": {},
   "outputs": [],
   "source": [
    "# Convert text data to numerical data using TF-IDF\n",
    "vectorizer = TfidfVectorizer()\n",
    "X_train_tfidf = vectorizer.fit_transform(X_train)\n",
    "X_test_tfidf = vectorizer.transform(X_test)"
   ]
  },
  {
   "cell_type": "code",
   "execution_count": 7,
   "metadata": {},
   "outputs": [
    {
     "data": {
      "text/html": [
       "<style>#sk-container-id-1 {color: black;background-color: white;}#sk-container-id-1 pre{padding: 0;}#sk-container-id-1 div.sk-toggleable {background-color: white;}#sk-container-id-1 label.sk-toggleable__label {cursor: pointer;display: block;width: 100%;margin-bottom: 0;padding: 0.3em;box-sizing: border-box;text-align: center;}#sk-container-id-1 label.sk-toggleable__label-arrow:before {content: \"▸\";float: left;margin-right: 0.25em;color: #696969;}#sk-container-id-1 label.sk-toggleable__label-arrow:hover:before {color: black;}#sk-container-id-1 div.sk-estimator:hover label.sk-toggleable__label-arrow:before {color: black;}#sk-container-id-1 div.sk-toggleable__content {max-height: 0;max-width: 0;overflow: hidden;text-align: left;background-color: #f0f8ff;}#sk-container-id-1 div.sk-toggleable__content pre {margin: 0.2em;color: black;border-radius: 0.25em;background-color: #f0f8ff;}#sk-container-id-1 input.sk-toggleable__control:checked~div.sk-toggleable__content {max-height: 200px;max-width: 100%;overflow: auto;}#sk-container-id-1 input.sk-toggleable__control:checked~label.sk-toggleable__label-arrow:before {content: \"▾\";}#sk-container-id-1 div.sk-estimator input.sk-toggleable__control:checked~label.sk-toggleable__label {background-color: #d4ebff;}#sk-container-id-1 div.sk-label input.sk-toggleable__control:checked~label.sk-toggleable__label {background-color: #d4ebff;}#sk-container-id-1 input.sk-hidden--visually {border: 0;clip: rect(1px 1px 1px 1px);clip: rect(1px, 1px, 1px, 1px);height: 1px;margin: -1px;overflow: hidden;padding: 0;position: absolute;width: 1px;}#sk-container-id-1 div.sk-estimator {font-family: monospace;background-color: #f0f8ff;border: 1px dotted black;border-radius: 0.25em;box-sizing: border-box;margin-bottom: 0.5em;}#sk-container-id-1 div.sk-estimator:hover {background-color: #d4ebff;}#sk-container-id-1 div.sk-parallel-item::after {content: \"\";width: 100%;border-bottom: 1px solid gray;flex-grow: 1;}#sk-container-id-1 div.sk-label:hover label.sk-toggleable__label {background-color: #d4ebff;}#sk-container-id-1 div.sk-serial::before {content: \"\";position: absolute;border-left: 1px solid gray;box-sizing: border-box;top: 0;bottom: 0;left: 50%;z-index: 0;}#sk-container-id-1 div.sk-serial {display: flex;flex-direction: column;align-items: center;background-color: white;padding-right: 0.2em;padding-left: 0.2em;position: relative;}#sk-container-id-1 div.sk-item {position: relative;z-index: 1;}#sk-container-id-1 div.sk-parallel {display: flex;align-items: stretch;justify-content: center;background-color: white;position: relative;}#sk-container-id-1 div.sk-item::before, #sk-container-id-1 div.sk-parallel-item::before {content: \"\";position: absolute;border-left: 1px solid gray;box-sizing: border-box;top: 0;bottom: 0;left: 50%;z-index: -1;}#sk-container-id-1 div.sk-parallel-item {display: flex;flex-direction: column;z-index: 1;position: relative;background-color: white;}#sk-container-id-1 div.sk-parallel-item:first-child::after {align-self: flex-end;width: 50%;}#sk-container-id-1 div.sk-parallel-item:last-child::after {align-self: flex-start;width: 50%;}#sk-container-id-1 div.sk-parallel-item:only-child::after {width: 0;}#sk-container-id-1 div.sk-dashed-wrapped {border: 1px dashed gray;margin: 0 0.4em 0.5em 0.4em;box-sizing: border-box;padding-bottom: 0.4em;background-color: white;}#sk-container-id-1 div.sk-label label {font-family: monospace;font-weight: bold;display: inline-block;line-height: 1.2em;}#sk-container-id-1 div.sk-label-container {text-align: center;}#sk-container-id-1 div.sk-container {/* jupyter's `normalize.less` sets `[hidden] { display: none; }` but bootstrap.min.css set `[hidden] { display: none !important; }` so we also need the `!important` here to be able to override the default hidden behavior on the sphinx rendered scikit-learn.org. See: https://github.com/scikit-learn/scikit-learn/issues/21755 */display: inline-block !important;position: relative;}#sk-container-id-1 div.sk-text-repr-fallback {display: none;}</style><div id=\"sk-container-id-1\" class=\"sk-top-container\"><div class=\"sk-text-repr-fallback\"><pre>SVC(kernel=&#x27;linear&#x27;)</pre><b>In a Jupyter environment, please rerun this cell to show the HTML representation or trust the notebook. <br />On GitHub, the HTML representation is unable to render, please try loading this page with nbviewer.org.</b></div><div class=\"sk-container\" hidden><div class=\"sk-item\"><div class=\"sk-estimator sk-toggleable\"><input class=\"sk-toggleable__control sk-hidden--visually\" id=\"sk-estimator-id-1\" type=\"checkbox\" checked><label for=\"sk-estimator-id-1\" class=\"sk-toggleable__label sk-toggleable__label-arrow\">SVC</label><div class=\"sk-toggleable__content\"><pre>SVC(kernel=&#x27;linear&#x27;)</pre></div></div></div></div></div>"
      ],
      "text/plain": [
       "SVC(kernel='linear')"
      ]
     },
     "execution_count": 7,
     "metadata": {},
     "output_type": "execute_result"
    }
   ],
   "source": [
    "# Initialize and train the SVM classifier\n",
    "model = SVC(kernel='linear')  # Linear kernel is often used for text classification\n",
    "model.fit(X_train_tfidf, y_train)"
   ]
  },
  {
   "cell_type": "code",
   "execution_count": 8,
   "metadata": {},
   "outputs": [],
   "source": [
    "# Make predictions\n",
    "y_pred = model.predict(X_test_tfidf)"
   ]
  },
  {
   "cell_type": "code",
   "execution_count": 9,
   "metadata": {},
   "outputs": [
    {
     "name": "stdout",
     "output_type": "stream",
     "text": [
      "              precision    recall  f1-score   support\n",
      "\n",
      "    negative       0.74      0.42      0.53       235\n",
      "     neutral       0.75      0.13      0.22       343\n",
      "    positive       0.79      0.99      0.88      1547\n",
      "\n",
      "    accuracy                           0.78      2125\n",
      "   macro avg       0.76      0.51      0.54      2125\n",
      "weighted avg       0.78      0.78      0.73      2125\n",
      "\n"
     ]
    }
   ],
   "source": [
    "# Evaluate the model\n",
    "print(classification_report(y_test, y_pred))"
   ]
  },
  {
   "cell_type": "code",
   "execution_count": 10,
   "metadata": {},
   "outputs": [
    {
     "data": {
      "text/plain": [
       "0.7844705882352941"
      ]
     },
     "execution_count": 10,
     "metadata": {},
     "output_type": "execute_result"
    }
   ],
   "source": [
    "accuracy_score(model.predict(X_test_tfidf), y_test)"
   ]
  },
  {
   "cell_type": "code",
   "execution_count": 11,
   "metadata": {},
   "outputs": [],
   "source": [
    "reviews_to_predict_df = pd.read_csv('data/cleaned_reviews_for_training_various.csv')"
   ]
  },
  {
   "cell_type": "code",
   "execution_count": 13,
   "metadata": {},
   "outputs": [
    {
     "data": {
      "text/html": [
       "<div>\n",
       "<style scoped>\n",
       "    .dataframe tbody tr th:only-of-type {\n",
       "        vertical-align: middle;\n",
       "    }\n",
       "\n",
       "    .dataframe tbody tr th {\n",
       "        vertical-align: top;\n",
       "    }\n",
       "\n",
       "    .dataframe thead th {\n",
       "        text-align: right;\n",
       "    }\n",
       "</style>\n",
       "<table border=\"1\" class=\"dataframe\">\n",
       "  <thead>\n",
       "    <tr style=\"text-align: right;\">\n",
       "      <th></th>\n",
       "      <th>#</th>\n",
       "      <th>book_name</th>\n",
       "      <th>reviewer_anonymous</th>\n",
       "      <th>reviewer_rating</th>\n",
       "      <th>review_description</th>\n",
       "      <th>date</th>\n",
       "    </tr>\n",
       "  </thead>\n",
       "  <tbody>\n",
       "    <tr>\n",
       "      <th>0</th>\n",
       "      <td>0</td>\n",
       "      <td>The Woman in Me</td>\n",
       "      <td>6ce3606d5be9785bcd9b10b844b98cf3b337b7a97a7f9c...</td>\n",
       "      <td>4</td>\n",
       "      <td>I'm only a third way in. Shipped lightening fa...</td>\n",
       "      <td>26-10-2023</td>\n",
       "    </tr>\n",
       "    <tr>\n",
       "      <th>1</th>\n",
       "      <td>1</td>\n",
       "      <td>The Woman in Me</td>\n",
       "      <td>243aa726ab7df2a7630a3a36c7d3a12f14e9d80cd3ab83...</td>\n",
       "      <td>5</td>\n",
       "      <td>\"There have been so many times when I was scar...</td>\n",
       "      <td>06-11-2023</td>\n",
       "    </tr>\n",
       "    <tr>\n",
       "      <th>2</th>\n",
       "      <td>2</td>\n",
       "      <td>The Woman in Me</td>\n",
       "      <td>eaea2ab37288945d63173beddf5680a39c37672c4386d6...</td>\n",
       "      <td>5</td>\n",
       "      <td>The media could not be loaded. I personally ha...</td>\n",
       "      <td>01-11-2023</td>\n",
       "    </tr>\n",
       "    <tr>\n",
       "      <th>3</th>\n",
       "      <td>3</td>\n",
       "      <td>The Woman in Me</td>\n",
       "      <td>9e554d1ebb53e03ec42b99ae5842c8a7309af90010bc51...</td>\n",
       "      <td>5</td>\n",
       "      <td>I have been a fan of Britney's music since the...</td>\n",
       "      <td>25-10-2023</td>\n",
       "    </tr>\n",
       "    <tr>\n",
       "      <th>4</th>\n",
       "      <td>4</td>\n",
       "      <td>The Woman in Me</td>\n",
       "      <td>4795e19c3660f232dd519252ac99d99fd53e23c7cf9a5e...</td>\n",
       "      <td>5</td>\n",
       "      <td>Whether or not you’re a fan, it’s a great read...</td>\n",
       "      <td>01-11-2023</td>\n",
       "    </tr>\n",
       "  </tbody>\n",
       "</table>\n",
       "</div>"
      ],
      "text/plain": [
       "   #        book_name                                 reviewer_anonymous  \\\n",
       "0  0  The Woman in Me  6ce3606d5be9785bcd9b10b844b98cf3b337b7a97a7f9c...   \n",
       "1  1  The Woman in Me  243aa726ab7df2a7630a3a36c7d3a12f14e9d80cd3ab83...   \n",
       "2  2  The Woman in Me  eaea2ab37288945d63173beddf5680a39c37672c4386d6...   \n",
       "3  3  The Woman in Me  9e554d1ebb53e03ec42b99ae5842c8a7309af90010bc51...   \n",
       "4  4  The Woman in Me  4795e19c3660f232dd519252ac99d99fd53e23c7cf9a5e...   \n",
       "\n",
       "   reviewer_rating                                 review_description  \\\n",
       "0                4  I'm only a third way in. Shipped lightening fa...   \n",
       "1                5  \"There have been so many times when I was scar...   \n",
       "2                5  The media could not be loaded. I personally ha...   \n",
       "3                5  I have been a fan of Britney's music since the...   \n",
       "4                5  Whether or not you’re a fan, it’s a great read...   \n",
       "\n",
       "         date  \n",
       "0  26-10-2023  \n",
       "1  06-11-2023  \n",
       "2  01-11-2023  \n",
       "3  25-10-2023  \n",
       "4  01-11-2023  "
      ]
     },
     "execution_count": 13,
     "metadata": {},
     "output_type": "execute_result"
    }
   ],
   "source": [
    "reviews_to_predict_df.head()"
   ]
  },
  {
   "cell_type": "code",
   "execution_count": 14,
   "metadata": {},
   "outputs": [],
   "source": [
    "# Convert stars to sentiment labels\n",
    "reviews_to_predict_df['sentiment_given'] = reviews_to_predict_df['reviewer_rating'].apply(lambda x: 'positive' if x > 3 else ('neutral' if x == 3 else 'negative'))"
   ]
  },
  {
   "cell_type": "code",
   "execution_count": 22,
   "metadata": {},
   "outputs": [],
   "source": [
    "# Convert text data to numerical data using TF-IDF\n",
    "X_predict_tfidf = vectorizer.transform(reviews_to_predict_df['review_description'])"
   ]
  },
  {
   "cell_type": "code",
   "execution_count": 25,
   "metadata": {},
   "outputs": [],
   "source": [
    "sentiment_pred = model.predict(X_predict_tfidf)"
   ]
  },
  {
   "cell_type": "code",
   "execution_count": 27,
   "metadata": {},
   "outputs": [],
   "source": [
    "reviews_to_predict_df['sentiment_predicted'] = sentiment_pred"
   ]
  },
  {
   "cell_type": "code",
   "execution_count": 28,
   "metadata": {},
   "outputs": [
    {
     "data": {
      "text/html": [
       "<div>\n",
       "<style scoped>\n",
       "    .dataframe tbody tr th:only-of-type {\n",
       "        vertical-align: middle;\n",
       "    }\n",
       "\n",
       "    .dataframe tbody tr th {\n",
       "        vertical-align: top;\n",
       "    }\n",
       "\n",
       "    .dataframe thead th {\n",
       "        text-align: right;\n",
       "    }\n",
       "</style>\n",
       "<table border=\"1\" class=\"dataframe\">\n",
       "  <thead>\n",
       "    <tr style=\"text-align: right;\">\n",
       "      <th></th>\n",
       "      <th>#</th>\n",
       "      <th>book_name</th>\n",
       "      <th>reviewer_anonymous</th>\n",
       "      <th>reviewer_rating</th>\n",
       "      <th>review_description</th>\n",
       "      <th>date</th>\n",
       "      <th>sentiment_given</th>\n",
       "      <th>sentiment_predicted</th>\n",
       "    </tr>\n",
       "  </thead>\n",
       "  <tbody>\n",
       "    <tr>\n",
       "      <th>0</th>\n",
       "      <td>0</td>\n",
       "      <td>The Woman in Me</td>\n",
       "      <td>6ce3606d5be9785bcd9b10b844b98cf3b337b7a97a7f9c...</td>\n",
       "      <td>4</td>\n",
       "      <td>I'm only a third way in. Shipped lightening fa...</td>\n",
       "      <td>26-10-2023</td>\n",
       "      <td>positive</td>\n",
       "      <td>positive</td>\n",
       "    </tr>\n",
       "    <tr>\n",
       "      <th>1</th>\n",
       "      <td>1</td>\n",
       "      <td>The Woman in Me</td>\n",
       "      <td>243aa726ab7df2a7630a3a36c7d3a12f14e9d80cd3ab83...</td>\n",
       "      <td>5</td>\n",
       "      <td>\"There have been so many times when I was scar...</td>\n",
       "      <td>06-11-2023</td>\n",
       "      <td>positive</td>\n",
       "      <td>positive</td>\n",
       "    </tr>\n",
       "    <tr>\n",
       "      <th>2</th>\n",
       "      <td>2</td>\n",
       "      <td>The Woman in Me</td>\n",
       "      <td>eaea2ab37288945d63173beddf5680a39c37672c4386d6...</td>\n",
       "      <td>5</td>\n",
       "      <td>The media could not be loaded. I personally ha...</td>\n",
       "      <td>01-11-2023</td>\n",
       "      <td>positive</td>\n",
       "      <td>positive</td>\n",
       "    </tr>\n",
       "    <tr>\n",
       "      <th>3</th>\n",
       "      <td>3</td>\n",
       "      <td>The Woman in Me</td>\n",
       "      <td>9e554d1ebb53e03ec42b99ae5842c8a7309af90010bc51...</td>\n",
       "      <td>5</td>\n",
       "      <td>I have been a fan of Britney's music since the...</td>\n",
       "      <td>25-10-2023</td>\n",
       "      <td>positive</td>\n",
       "      <td>positive</td>\n",
       "    </tr>\n",
       "    <tr>\n",
       "      <th>4</th>\n",
       "      <td>4</td>\n",
       "      <td>The Woman in Me</td>\n",
       "      <td>4795e19c3660f232dd519252ac99d99fd53e23c7cf9a5e...</td>\n",
       "      <td>5</td>\n",
       "      <td>Whether or not you’re a fan, it’s a great read...</td>\n",
       "      <td>01-11-2023</td>\n",
       "      <td>positive</td>\n",
       "      <td>positive</td>\n",
       "    </tr>\n",
       "  </tbody>\n",
       "</table>\n",
       "</div>"
      ],
      "text/plain": [
       "   #        book_name                                 reviewer_anonymous  \\\n",
       "0  0  The Woman in Me  6ce3606d5be9785bcd9b10b844b98cf3b337b7a97a7f9c...   \n",
       "1  1  The Woman in Me  243aa726ab7df2a7630a3a36c7d3a12f14e9d80cd3ab83...   \n",
       "2  2  The Woman in Me  eaea2ab37288945d63173beddf5680a39c37672c4386d6...   \n",
       "3  3  The Woman in Me  9e554d1ebb53e03ec42b99ae5842c8a7309af90010bc51...   \n",
       "4  4  The Woman in Me  4795e19c3660f232dd519252ac99d99fd53e23c7cf9a5e...   \n",
       "\n",
       "   reviewer_rating                                 review_description  \\\n",
       "0                4  I'm only a third way in. Shipped lightening fa...   \n",
       "1                5  \"There have been so many times when I was scar...   \n",
       "2                5  The media could not be loaded. I personally ha...   \n",
       "3                5  I have been a fan of Britney's music since the...   \n",
       "4                5  Whether or not you’re a fan, it’s a great read...   \n",
       "\n",
       "         date sentiment_given sentiment_predicted  \n",
       "0  26-10-2023        positive            positive  \n",
       "1  06-11-2023        positive            positive  \n",
       "2  01-11-2023        positive            positive  \n",
       "3  25-10-2023        positive            positive  \n",
       "4  01-11-2023        positive            positive  "
      ]
     },
     "execution_count": 28,
     "metadata": {},
     "output_type": "execute_result"
    }
   ],
   "source": [
    "reviews_to_predict_df.head()"
   ]
  },
  {
   "cell_type": "code",
   "execution_count": 21,
   "metadata": {},
   "outputs": [
    {
     "data": {
      "text/plain": [
       "sentiment_given\n",
       "negative      4\n",
       "neutral       8\n",
       "positive    905\n",
       "Name: reviewer_rating, dtype: int64"
      ]
     },
     "execution_count": 21,
     "metadata": {},
     "output_type": "execute_result"
    }
   ],
   "source": [
    "reviews_to_predict_df.groupby('sentiment_given').reviewer_rating.count()"
   ]
  },
  {
   "cell_type": "code",
   "execution_count": 29,
   "metadata": {},
   "outputs": [
    {
     "data": {
      "text/plain": [
       "sentiment_predicted\n",
       "negative     11\n",
       "neutral       3\n",
       "positive    903\n",
       "Name: reviewer_rating, dtype: int64"
      ]
     },
     "execution_count": 29,
     "metadata": {},
     "output_type": "execute_result"
    }
   ],
   "source": [
    "reviews_to_predict_df.groupby('sentiment_predicted').reviewer_rating.count()"
   ]
  },
  {
   "cell_type": "code",
   "execution_count": 30,
   "metadata": {},
   "outputs": [
    {
     "data": {
      "text/plain": [
       "(917, 8)"
      ]
     },
     "execution_count": 30,
     "metadata": {},
     "output_type": "execute_result"
    }
   ],
   "source": [
    "reviews_to_predict_df.shape"
   ]
  },
  {
   "cell_type": "code",
   "execution_count": 31,
   "metadata": {},
   "outputs": [
    {
     "data": {
      "text/plain": [
       "(894, 8)"
      ]
     },
     "execution_count": 31,
     "metadata": {},
     "output_type": "execute_result"
    }
   ],
   "source": [
    "reviews_to_predict_df[reviews_to_predict_df['sentiment_given'] == reviews_to_predict_df['sentiment_predicted']].shape"
   ]
  },
  {
   "cell_type": "code",
   "execution_count": 33,
   "metadata": {},
   "outputs": [],
   "source": [
    "reviews_to_predict_df.to_csv('data/reviews_with_predicted_v_given_sentiment.csv', index = None)"
   ]
  },
  {
   "cell_type": "code",
   "execution_count": 35,
   "metadata": {},
   "outputs": [
    {
     "data": {
      "text/html": [
       "<div>\n",
       "<style scoped>\n",
       "    .dataframe tbody tr th:only-of-type {\n",
       "        vertical-align: middle;\n",
       "    }\n",
       "\n",
       "    .dataframe tbody tr th {\n",
       "        vertical-align: top;\n",
       "    }\n",
       "\n",
       "    .dataframe thead th {\n",
       "        text-align: right;\n",
       "    }\n",
       "</style>\n",
       "<table border=\"1\" class=\"dataframe\">\n",
       "  <thead>\n",
       "    <tr style=\"text-align: right;\">\n",
       "      <th></th>\n",
       "      <th>reviewer_rating</th>\n",
       "      <th>review_description</th>\n",
       "      <th>sentiment_given</th>\n",
       "      <th>sentiment_predicted</th>\n",
       "    </tr>\n",
       "  </thead>\n",
       "  <tbody>\n",
       "    <tr>\n",
       "      <th>14</th>\n",
       "      <td>3</td>\n",
       "      <td>So, I will review this as two people: A writer...</td>\n",
       "      <td>neutral</td>\n",
       "      <td>positive</td>\n",
       "    </tr>\n",
       "    <tr>\n",
       "      <th>61</th>\n",
       "      <td>2</td>\n",
       "      <td>Anthony Doerr’s descriptions are like no other...</td>\n",
       "      <td>negative</td>\n",
       "      <td>positive</td>\n",
       "    </tr>\n",
       "    <tr>\n",
       "      <th>119</th>\n",
       "      <td>5</td>\n",
       "      <td>This book is PACKED with interesting informati...</td>\n",
       "      <td>positive</td>\n",
       "      <td>negative</td>\n",
       "    </tr>\n",
       "    <tr>\n",
       "      <th>129</th>\n",
       "      <td>5</td>\n",
       "      <td>After the loss of my wife I found myself looki...</td>\n",
       "      <td>positive</td>\n",
       "      <td>negative</td>\n",
       "    </tr>\n",
       "    <tr>\n",
       "      <th>197</th>\n",
       "      <td>3</td>\n",
       "      <td>ஐBeauty and the Beast meets Faerie ஐ – I shoul...</td>\n",
       "      <td>neutral</td>\n",
       "      <td>positive</td>\n",
       "    </tr>\n",
       "    <tr>\n",
       "      <th>199</th>\n",
       "      <td>5</td>\n",
       "      <td>Okay so... I might lost some of my favorite cr...</td>\n",
       "      <td>positive</td>\n",
       "      <td>negative</td>\n",
       "    </tr>\n",
       "    <tr>\n",
       "      <th>269</th>\n",
       "      <td>5</td>\n",
       "      <td>I loved this book so I purchased 2 other books...</td>\n",
       "      <td>positive</td>\n",
       "      <td>negative</td>\n",
       "    </tr>\n",
       "    <tr>\n",
       "      <th>272</th>\n",
       "      <td>4</td>\n",
       "      <td>Okay so I liked it but didn't love it. It was ...</td>\n",
       "      <td>positive</td>\n",
       "      <td>negative</td>\n",
       "    </tr>\n",
       "    <tr>\n",
       "      <th>308</th>\n",
       "      <td>3</td>\n",
       "      <td>How to catch a mermaid was adorable - this boo...</td>\n",
       "      <td>neutral</td>\n",
       "      <td>positive</td>\n",
       "    </tr>\n",
       "    <tr>\n",
       "      <th>367</th>\n",
       "      <td>3</td>\n",
       "      <td>This short book is rather ambitious in the sen...</td>\n",
       "      <td>neutral</td>\n",
       "      <td>positive</td>\n",
       "    </tr>\n",
       "    <tr>\n",
       "      <th>368</th>\n",
       "      <td>2</td>\n",
       "      <td>I am someone who knew virtually nothing about ...</td>\n",
       "      <td>negative</td>\n",
       "      <td>positive</td>\n",
       "    </tr>\n",
       "    <tr>\n",
       "      <th>397</th>\n",
       "      <td>3</td>\n",
       "      <td>The story line of this book is very confusing ...</td>\n",
       "      <td>neutral</td>\n",
       "      <td>positive</td>\n",
       "    </tr>\n",
       "    <tr>\n",
       "      <th>506</th>\n",
       "      <td>4</td>\n",
       "      <td>This book is a good read. I just merely got in...</td>\n",
       "      <td>positive</td>\n",
       "      <td>neutral</td>\n",
       "    </tr>\n",
       "    <tr>\n",
       "      <th>511</th>\n",
       "      <td>5</td>\n",
       "      <td>Interesting facts the whole family can learn f...</td>\n",
       "      <td>positive</td>\n",
       "      <td>negative</td>\n",
       "    </tr>\n",
       "    <tr>\n",
       "      <th>521</th>\n",
       "      <td>3</td>\n",
       "      <td>I bought this book since the kids and I enjoye...</td>\n",
       "      <td>neutral</td>\n",
       "      <td>positive</td>\n",
       "    </tr>\n",
       "    <tr>\n",
       "      <th>553</th>\n",
       "      <td>3</td>\n",
       "      <td>I really like the Llama books we have but this...</td>\n",
       "      <td>neutral</td>\n",
       "      <td>positive</td>\n",
       "    </tr>\n",
       "    <tr>\n",
       "      <th>633</th>\n",
       "      <td>4</td>\n",
       "      <td>I don't tend to look at things as deeply as mo...</td>\n",
       "      <td>positive</td>\n",
       "      <td>neutral</td>\n",
       "    </tr>\n",
       "    <tr>\n",
       "      <th>640</th>\n",
       "      <td>4</td>\n",
       "      <td>I really debated rating this one higher cause ...</td>\n",
       "      <td>positive</td>\n",
       "      <td>neutral</td>\n",
       "    </tr>\n",
       "    <tr>\n",
       "      <th>752</th>\n",
       "      <td>5</td>\n",
       "      <td>I have to say I bought this blindly after watc...</td>\n",
       "      <td>positive</td>\n",
       "      <td>negative</td>\n",
       "    </tr>\n",
       "    <tr>\n",
       "      <th>755</th>\n",
       "      <td>5</td>\n",
       "      <td>I have never been much of a romantic reader, i...</td>\n",
       "      <td>positive</td>\n",
       "      <td>negative</td>\n",
       "    </tr>\n",
       "    <tr>\n",
       "      <th>764</th>\n",
       "      <td>2</td>\n",
       "      <td>Other than the very last page this has nothing...</td>\n",
       "      <td>negative</td>\n",
       "      <td>positive</td>\n",
       "    </tr>\n",
       "    <tr>\n",
       "      <th>772</th>\n",
       "      <td>5</td>\n",
       "      <td>not too hard - not too easy - just right</td>\n",
       "      <td>positive</td>\n",
       "      <td>negative</td>\n",
       "    </tr>\n",
       "    <tr>\n",
       "      <th>793</th>\n",
       "      <td>3</td>\n",
       "      <td>I could go on for awhile on this but I wont. I...</td>\n",
       "      <td>neutral</td>\n",
       "      <td>negative</td>\n",
       "    </tr>\n",
       "  </tbody>\n",
       "</table>\n",
       "</div>"
      ],
      "text/plain": [
       "     reviewer_rating                                 review_description  \\\n",
       "14                 3  So, I will review this as two people: A writer...   \n",
       "61                 2  Anthony Doerr’s descriptions are like no other...   \n",
       "119                5  This book is PACKED with interesting informati...   \n",
       "129                5  After the loss of my wife I found myself looki...   \n",
       "197                3  ஐBeauty and the Beast meets Faerie ஐ – I shoul...   \n",
       "199                5  Okay so... I might lost some of my favorite cr...   \n",
       "269                5  I loved this book so I purchased 2 other books...   \n",
       "272                4  Okay so I liked it but didn't love it. It was ...   \n",
       "308                3  How to catch a mermaid was adorable - this boo...   \n",
       "367                3  This short book is rather ambitious in the sen...   \n",
       "368                2  I am someone who knew virtually nothing about ...   \n",
       "397                3  The story line of this book is very confusing ...   \n",
       "506                4  This book is a good read. I just merely got in...   \n",
       "511                5  Interesting facts the whole family can learn f...   \n",
       "521                3  I bought this book since the kids and I enjoye...   \n",
       "553                3  I really like the Llama books we have but this...   \n",
       "633                4  I don't tend to look at things as deeply as mo...   \n",
       "640                4  I really debated rating this one higher cause ...   \n",
       "752                5  I have to say I bought this blindly after watc...   \n",
       "755                5  I have never been much of a romantic reader, i...   \n",
       "764                2  Other than the very last page this has nothing...   \n",
       "772                5           not too hard - not too easy - just right   \n",
       "793                3  I could go on for awhile on this but I wont. I...   \n",
       "\n",
       "    sentiment_given sentiment_predicted  \n",
       "14          neutral            positive  \n",
       "61         negative            positive  \n",
       "119        positive            negative  \n",
       "129        positive            negative  \n",
       "197         neutral            positive  \n",
       "199        positive            negative  \n",
       "269        positive            negative  \n",
       "272        positive            negative  \n",
       "308         neutral            positive  \n",
       "367         neutral            positive  \n",
       "368        negative            positive  \n",
       "397         neutral            positive  \n",
       "506        positive             neutral  \n",
       "511        positive            negative  \n",
       "521         neutral            positive  \n",
       "553         neutral            positive  \n",
       "633        positive             neutral  \n",
       "640        positive             neutral  \n",
       "752        positive            negative  \n",
       "755        positive            negative  \n",
       "764        negative            positive  \n",
       "772        positive            negative  \n",
       "793         neutral            negative  "
      ]
     },
     "execution_count": 35,
     "metadata": {},
     "output_type": "execute_result"
    }
   ],
   "source": [
    "reviews_to_predict_df[reviews_to_predict_df['sentiment_given'] != reviews_to_predict_df['sentiment_predicted']][['reviewer_rating', 'review_description', 'sentiment_given', 'sentiment_predicted']]"
   ]
  }
 ],
 "metadata": {
  "kernelspec": {
   "display_name": "base",
   "language": "python",
   "name": "python3"
  },
  "language_info": {
   "codemirror_mode": {
    "name": "ipython",
    "version": 3
   },
   "file_extension": ".py",
   "mimetype": "text/x-python",
   "name": "python",
   "nbconvert_exporter": "python",
   "pygments_lexer": "ipython3",
   "version": "3.11.7"
  }
 },
 "nbformat": 4,
 "nbformat_minor": 2
}
